{
 "cells": [
  {
   "cell_type": "markdown",
   "metadata": {},
   "source": [
    "*****************************************************************\n",
    "#  The Social Web \n",
    "- Instructors Jacco van Ossenbruggen, Dayana Spagnuelo\n",
    "- TAs Michael Accetto, Oktay Kavi, Abhirup Mukherjee, Nihat Uzunalioğlu\n",
    "*****************************************************************"
   ]
  },
  {
   "cell_type": "markdown",
   "metadata": {},
   "source": [
    "Prerequisites:\n",
    "- Python 3.8\n",
    "- Python packages: twitter, prettytable, matplotlib\n",
    "\n",
    "First you need to know how to retrieve some social web data. Exercises 1 and 2 will show you how to retrieve trends and search results from Twitter. \n",
    "\n",
    "But let's check first if we're running a sufficiently new version of Python:"
   ]
  },
  {
   "cell_type": "code",
   "execution_count": 1,
   "metadata": {},
   "outputs": [
    {
     "name": "stdout",
     "output_type": "stream",
     "text": [
      "This jupyter notebook is running on Python 3.8.6\n"
     ]
    }
   ],
   "source": [
    "import platform\n",
    "import sys\n",
    "print(\"This jupyter notebook is running on Python \" + platform.python_version())\n",
    "# It's good practice to assert packages requirements at the beginning of a script:\n",
    "assert sys.version_info >= (3, 6) # Tested with Python==3.7.5"
   ]
  },
  {
   "cell_type": "markdown",
   "metadata": {},
   "source": [
    "Let's install now the required packages for this hands on session:"
   ]
  },
  {
   "cell_type": "code",
   "execution_count": 2,
   "metadata": {},
   "outputs": [
    {
     "name": "stdout",
     "output_type": "stream",
     "text": [
      "Collecting twitter"
     ]
    },
    {
     "name": "stderr",
     "output_type": "stream",
     "text": [
      "WARNING: You are using pip version 20.2.1; however, version 20.2.4 is available.\n",
      "You should consider upgrading via the 'c:\\users\\sharu\\socialweb\\scripts\\python.exe -m pip install --upgrade pip' command.\n"
     ]
    },
    {
     "name": "stdout",
     "output_type": "stream",
     "text": [
      "\n",
      "  Downloading twitter-1.18.0-py2.py3-none-any.whl (54 kB)\n",
      "Collecting PrettyTable\n",
      "  Downloading prettytable-1.0.1-py2.py3-none-any.whl (22 kB)\n",
      "Requirement already satisfied: matplotlib in c:\\users\\sharu\\socialweb\\lib\\site-packages (3.3.2)\n",
      "Requirement already satisfied: setuptools in c:\\users\\sharu\\socialweb\\lib\\site-packages (from PrettyTable) (49.2.1)\n",
      "Requirement already satisfied: wcwidth in c:\\users\\sharu\\socialweb\\lib\\site-packages (from PrettyTable) (0.2.5)\n",
      "Requirement already satisfied: certifi>=2020.06.20 in c:\\users\\sharu\\socialweb\\lib\\site-packages (from matplotlib) (2020.6.20)\n",
      "Requirement already satisfied: kiwisolver>=1.0.1 in c:\\users\\sharu\\socialweb\\lib\\site-packages (from matplotlib) (1.3.0)\n",
      "Requirement already satisfied: numpy>=1.15 in c:\\users\\sharu\\socialweb\\lib\\site-packages (from matplotlib) (1.19.2)\n",
      "Requirement already satisfied: cycler>=0.10 in c:\\users\\sharu\\socialweb\\lib\\site-packages (from matplotlib) (0.10.0)\n",
      "Requirement already satisfied: pillow>=6.2.0 in c:\\users\\sharu\\socialweb\\lib\\site-packages (from matplotlib) (8.0.1)\n",
      "Requirement already satisfied: pyparsing!=2.0.4,!=2.1.2,!=2.1.6,>=2.0.3 in c:\\users\\sharu\\socialweb\\lib\\site-packages (from matplotlib) (2.4.7)\n",
      "Requirement already satisfied: python-dateutil>=2.1 in c:\\users\\sharu\\socialweb\\lib\\site-packages (from matplotlib) (2.8.1)\n",
      "Requirement already satisfied: six in c:\\users\\sharu\\socialweb\\lib\\site-packages (from cycler>=0.10->matplotlib) (1.15.0)\n",
      "Installing collected packages: twitter, PrettyTable\n",
      "Successfully installed PrettyTable-1.0.1 twitter-1.18.0\n"
     ]
    }
   ],
   "source": [
    "# If you're using a virtualenv, make sure its activated before running \n",
    "# this cell!\n",
    "!pip install twitter PrettyTable matplotlib"
   ]
  },
  {
   "cell_type": "markdown",
   "metadata": {},
   "source": [
    "## Part 1: Authorizing an application to access Twitter account data (from Example 1-1/9-1 in Mining the Social Web):\n",
    "\n",
    "1. Make sure to add your mobile phone number to your private twitter profile.\n",
    "2. Go to https://apps.twitter.com/ and click on \"create an app\". Twitter will prompt you to create a *developer account*.\n",
    "3. You'll receive an *account confirmation* email with a link. Follow it and create an app. \n",
    "4. Once the app is created, you'll see a \"Keys and Token\" item on the top left-hand side corner of the webpage. These values will be needed to fill in the next cell.\n",
    "5. Please delete all your keys before submission."
   ]
  },
  {
   "cell_type": "code",
   "execution_count": 2,
   "metadata": {},
   "outputs": [
    {
     "name": "stdout",
     "output_type": "stream",
     "text": [
      "<twitter.api.Twitter object at 0x00000203BEEC33A0>\n"
     ]
    }
   ],
   "source": [
    "import twitter # Tell Python to use the twitter package\n",
    "CONSUMER_KEY = '8ibOMlUIOacUDhtLyQqNFbk9Q'\n",
    "CONSUMER_SECRET = '8eozIbp5gvBkQoRyMkbzTUnWQ0mtpOtfMukpS7BolTtbHNOvvs'\n",
    "# to get the oauth credential you need to click on the 'Generate access token' button:\n",
    "OAUTH_TOKEN = '1321521662307819521-Iuk4knI1cmQcYYFuShufMpqAvMJmAR' \n",
    "OAUTH_TOKEN_SECRET = 'KJWTAIUniJgGt1Ena9TUC3yIwIyit1vhAPd6WMjyxw3VM'\n",
    "auth = twitter.oauth.OAuth(OAUTH_TOKEN, OAUTH_TOKEN_SECRET,CONSUMER_KEY, CONSUMER_SECRET)\n",
    "#question: what does the Twitter refer to?\n",
    "twitter_api = twitter.Twitter(auth=auth)\n",
    "print(twitter_api) \n",
    "# Nothing to see by displaying twitter_api except that it's now a defined variable\n"
   ]
  },
  {
   "cell_type": "markdown",
   "metadata": {},
   "source": [
    "### 1.1: Retrieving twitter search trends (from Example 1-2/9-2 in Mining the Social Web)"
   ]
  },
  {
   "cell_type": "code",
   "execution_count": 3,
   "metadata": {},
   "outputs": [
    {
     "name": "stdout",
     "output_type": "stream",
     "text": [
      "[{'trends': [{'name': \"MAMA's Fan Choice Awards\", 'url': 'http://twitter.com/search?q=%22MAMA%27s+Fan+Choice+Awards%22', 'promoted_content': None, 'query': '%22MAMA%27s+Fan+Choice+Awards%22', 'tweet_volume': 120587}, {'name': '#SZ_POPSTEP2020', 'url': 'http://twitter.com/search?q=%23SZ_POPSTEP2020', 'promoted_content': None, 'query': '%23SZ_POPSTEP2020', 'tweet_volume': 20046}, {'name': '#Atamİzindeyiz', 'url': 'http://twitter.com/search?q=%23Atam%C4%B0zindeyiz', 'promoted_content': None, 'query': '%23Atam%C4%B0zindeyiz', 'tweet_volume': 17510}, {'name': 'ヴィル様', 'url': 'http://twitter.com/search?q=%E3%83%B4%E3%82%A3%E3%83%AB%E6%A7%98', 'promoted_content': None, 'query': '%E3%83%B4%E3%82%A3%E3%83%AB%E6%A7%98', 'tweet_volume': 19617}, {'name': '#29EkimCumhiyetBayramı', 'url': 'http://twitter.com/search?q=%2329EkimCumhiyetBayram%C4%B1', 'promoted_content': None, 'query': '%2329EkimCumhiyetBayram%C4%B1', 'tweet_volume': 48949}, {'name': '#EXOLProtectChanyeol', 'url': 'http://twitter.com/search?q=%23EXOLProtectChanyeol', 'promoted_content': None, 'query': '%23EXOLProtectChanyeol', 'tweet_volume': 225422}, {'name': 'mnet', 'url': 'http://twitter.com/search?q=mnet', 'promoted_content': None, 'query': 'mnet', 'tweet_volume': 484032}, {'name': '#DjNeptuneXJoeboyXLaycon', 'url': 'http://twitter.com/search?q=%23DjNeptuneXJoeboyXLaycon', 'promoted_content': None, 'query': '%23DjNeptuneXJoeboyXLaycon', 'tweet_volume': 48492}, {'name': 'Sweet Night', 'url': 'http://twitter.com/search?q=%22Sweet+Night%22', 'promoted_content': None, 'query': '%22Sweet+Night%22', 'tweet_volume': 60458}, {'name': 'ノクティス', 'url': 'http://twitter.com/search?q=%E3%83%8E%E3%82%AF%E3%83%86%E3%82%A3%E3%82%B9', 'promoted_content': None, 'query': '%E3%83%8E%E3%82%AF%E3%83%86%E3%82%A3%E3%82%B9', 'tweet_volume': None}, {'name': 'Worldwide Fans', 'url': 'http://twitter.com/search?q=%22Worldwide+Fans%22', 'promoted_content': None, 'query': '%22Worldwide+Fans%22', 'tweet_volume': 53332}, {'name': '伊藤健太郎', 'url': 'http://twitter.com/search?q=%E4%BC%8A%E8%97%A4%E5%81%A5%E5%A4%AA%E9%83%8E', 'promoted_content': None, 'query': '%E4%BC%8A%E8%97%A4%E5%81%A5%E5%A4%AA%E9%83%8E', 'tweet_volume': 140093}, {'name': 'Atatürk', 'url': 'http://twitter.com/search?q=Atat%C3%BCrk', 'promoted_content': None, 'query': 'Atat%C3%BCrk', 'tweet_volume': 235463}, {'name': 'FF16', 'url': 'http://twitter.com/search?q=FF16', 'promoted_content': None, 'query': 'FF16', 'tweet_volume': 13498}, {'name': '劇場版SEED', 'url': 'http://twitter.com/search?q=%E5%8A%87%E5%A0%B4%E7%89%88SEED', 'promoted_content': None, 'query': '%E5%8A%87%E5%A0%B4%E7%89%88SEED', 'tweet_volume': None}, {'name': 'UNCLE SUGA', 'url': 'http://twitter.com/search?q=%22UNCLE+SUGA%22', 'promoted_content': None, 'query': '%22UNCLE+SUGA%22', 'tweet_volume': 32253}, {'name': 'Bad Alive', 'url': 'http://twitter.com/search?q=%22Bad+Alive%22', 'promoted_content': None, 'query': '%22Bad+Alive%22', 'tweet_volume': 17978}, {'name': 'WELL DONE ENGENES', 'url': 'http://twitter.com/search?q=%22WELL+DONE+ENGENES%22', 'promoted_content': None, 'query': '%22WELL+DONE+ENGENES%22', 'tweet_volume': 11205}, {'name': '場数pt', 'url': 'http://twitter.com/search?q=%E5%A0%B4%E6%95%B0pt', 'promoted_content': None, 'query': '%E5%A0%B4%E6%95%B0pt', 'tweet_volume': None}, {'name': '매운 정도', 'url': 'http://twitter.com/search?q=%22%EB%A7%A4%EC%9A%B4+%EC%A0%95%EB%8F%84%22', 'promoted_content': None, 'query': '%22%EB%A7%A4%EC%9A%B4+%EC%A0%95%EB%8F%84%22', 'tweet_volume': None}, {'name': 'IRENE THE ORIGINAL VISUAL', 'url': 'http://twitter.com/search?q=%22IRENE+THE+ORIGINAL+VISUAL%22', 'promoted_content': None, 'query': '%22IRENE+THE+ORIGINAL+VISUAL%22', 'tweet_volume': 21536}, {'name': 'プロデュース方針', 'url': 'http://twitter.com/search?q=%E3%83%97%E3%83%AD%E3%83%87%E3%83%A5%E3%83%BC%E3%82%B9%E6%96%B9%E9%87%9D', 'promoted_content': None, 'query': '%E3%83%97%E3%83%AD%E3%83%87%E3%83%A5%E3%83%BC%E3%82%B9%E6%96%B9%E9%87%9D', 'tweet_volume': None}, {'name': 'ひき逃げ', 'url': 'http://twitter.com/search?q=%E3%81%B2%E3%81%8D%E9%80%83%E3%81%92', 'promoted_content': None, 'query': '%E3%81%B2%E3%81%8D%E9%80%83%E3%81%92', 'tweet_volume': 69936}, {'name': 'TREASURE JEWELS', 'url': 'http://twitter.com/search?q=%22TREASURE+JEWELS%22', 'promoted_content': None, 'query': '%22TREASURE+JEWELS%22', 'tweet_volume': 37288}, {'name': '都営三田線', 'url': 'http://twitter.com/search?q=%E9%83%BD%E5%96%B6%E4%B8%89%E7%94%B0%E7%B7%9A', 'promoted_content': None, 'query': '%E9%83%BD%E5%96%B6%E4%B8%89%E7%94%B0%E7%B7%9A', 'tweet_volume': None}, {'name': 'Aマッソ', 'url': 'http://twitter.com/search?q=A%E3%83%9E%E3%83%83%E3%82%BD', 'promoted_content': None, 'query': 'A%E3%83%9E%E3%83%83%E3%82%BD', 'tweet_volume': None}, {'name': 'Notre-Dame', 'url': 'http://twitter.com/search?q=Notre-Dame', 'promoted_content': None, 'query': 'Notre-Dame', 'tweet_volume': 17010}, {'name': 'とんかつDJアゲ太郎', 'url': 'http://twitter.com/search?q=%E3%81%A8%E3%82%93%E3%81%8B%E3%81%A4DJ%E3%82%A2%E3%82%B2%E5%A4%AA%E9%83%8E', 'promoted_content': None, 'query': '%E3%81%A8%E3%82%93%E3%81%8B%E3%81%A4DJ%E3%82%A2%E3%82%B2%E5%A4%AA%E9%83%8E', 'tweet_volume': 33460}, {'name': '日本新記録', 'url': 'http://twitter.com/search?q=%E6%97%A5%E6%9C%AC%E6%96%B0%E8%A8%98%E9%8C%B2', 'promoted_content': None, 'query': '%E6%97%A5%E6%9C%AC%E6%96%B0%E8%A8%98%E9%8C%B2', 'tweet_volume': None}, {'name': 'ガンダムSEED', 'url': 'http://twitter.com/search?q=%E3%82%AC%E3%83%B3%E3%83%80%E3%83%A0SEED', 'promoted_content': None, 'query': '%E3%82%AC%E3%83%B3%E3%83%80%E3%83%A0SEED', 'tweet_volume': 18113}, {'name': 'Wine', 'url': 'http://twitter.com/search?q=Wine', 'promoted_content': None, 'query': 'Wine', 'tweet_volume': 95298}, {'name': 'アズール完凸', 'url': 'http://twitter.com/search?q=%E3%82%A2%E3%82%BA%E3%83%BC%E3%83%AB%E5%AE%8C%E5%87%B8', 'promoted_content': None, 'query': '%E3%82%A2%E3%82%BA%E3%83%BC%E3%83%AB%E5%AE%8C%E5%87%B8', 'tweet_volume': None}, {'name': 'سويت نايت', 'url': 'http://twitter.com/search?q=%22%D8%B3%D9%88%D9%8A%D8%AA+%D9%86%D8%A7%D9%8A%D8%AA%22', 'promoted_content': None, 'query': '%22%D8%B3%D9%88%D9%8A%D8%AA+%D9%86%D8%A7%D9%8A%D8%AA%22', 'tweet_volume': None}, {'name': '高校生組', 'url': 'http://twitter.com/search?q=%E9%AB%98%E6%A0%A1%E7%94%9F%E7%B5%84', 'promoted_content': None, 'query': '%E9%AB%98%E6%A0%A1%E7%94%9F%E7%B5%84', 'tweet_volume': None}, {'name': 'ヴァリスゼア', 'url': 'http://twitter.com/search?q=%E3%83%B4%E3%82%A1%E3%83%AA%E3%82%B9%E3%82%BC%E3%82%A2', 'promoted_content': None, 'query': '%E3%83%B4%E3%82%A1%E3%83%AA%E3%82%B9%E3%82%BC%E3%82%A2', 'tweet_volume': None}, {'name': 'ON and Black Swan', 'url': 'http://twitter.com/search?q=%22ON+and+Black+Swan%22', 'promoted_content': None, 'query': '%22ON+and+Black+Swan%22', 'tweet_volume': None}, {'name': 'Farage', 'url': 'http://twitter.com/search?q=Farage', 'promoted_content': None, 'query': 'Farage', 'tweet_volume': 42367}, {'name': 'SSR確定', 'url': 'http://twitter.com/search?q=SSR%E7%A2%BA%E5%AE%9A', 'promoted_content': None, 'query': 'SSR%E7%A2%BA%E5%AE%9A', 'tweet_volume': None}, {'name': 'ノミネート', 'url': 'http://twitter.com/search?q=%E3%83%8E%E3%83%9F%E3%83%8D%E3%83%BC%E3%83%88', 'promoted_content': None, 'query': '%E3%83%8E%E3%83%9F%E3%83%8D%E3%83%BC%E3%83%88', 'tweet_volume': None}, {'name': 'mcountdown', 'url': 'http://twitter.com/search?q=mcountdown', 'promoted_content': None, 'query': 'mcountdown', 'tweet_volume': 30266}, {'name': '#あなたっぽい声のアニメキャラ', 'url': 'http://twitter.com/search?q=%23%E3%81%82%E3%81%AA%E3%81%9F%E3%81%A3%E3%81%BD%E3%81%84%E5%A3%B0%E3%81%AE%E3%82%A2%E3%83%8B%E3%83%A1%E3%82%AD%E3%83%A3%E3%83%A9', 'promoted_content': None, 'query': '%23%E3%81%82%E3%81%AA%E3%81%9F%E3%81%A3%E3%81%BD%E3%81%84%E5%A3%B0%E3%81%AE%E3%82%A2%E3%83%8B%E3%83%A1%E3%82%AD%E3%83%A3%E3%83%A9', 'tweet_volume': None}, {'name': '#2020MAMA', 'url': 'http://twitter.com/search?q=%232020MAMA', 'promoted_content': None, 'query': '%232020MAMA', 'tweet_volume': 386398}, {'name': '#คนนั้นต้องเป็นเธอ7M', 'url': 'http://twitter.com/search?q=%23%E0%B8%84%E0%B8%99%E0%B8%99%E0%B8%B1%E0%B9%89%E0%B8%99%E0%B8%95%E0%B9%89%E0%B8%AD%E0%B8%87%E0%B9%80%E0%B8%9B%E0%B9%87%E0%B8%99%E0%B9%80%E0%B8%98%E0%B8%AD7M', 'promoted_content': None, 'query': '%23%E0%B8%84%E0%B8%99%E0%B8%99%E0%B8%B1%E0%B9%89%E0%B8%99%E0%B8%95%E0%B9%89%E0%B8%AD%E0%B8%87%E0%B9%80%E0%B8%9B%E0%B9%87%E0%B8%99%E0%B9%80%E0%B8%98%E0%B8%AD7M', 'tweet_volume': 61842}, {'name': '#شي_لايمكنك_مقاومته', 'url': 'http://twitter.com/search?q=%23%D8%B4%D9%8A_%D9%84%D8%A7%D9%8A%D9%85%D9%83%D9%86%D9%83_%D9%85%D9%82%D8%A7%D9%88%D9%85%D8%AA%D9%87', 'promoted_content': None, 'query': '%23%D8%B4%D9%8A_%D9%84%D8%A7%D9%8A%D9%85%D9%83%D9%86%D9%83_%D9%85%D9%82%D8%A7%D9%88%D9%85%D8%AA%D9%87', 'tweet_volume': None}, {'name': '#郡道美玲', 'url': 'http://twitter.com/search?q=%23%E9%83%A1%E9%81%93%E7%BE%8E%E7%8E%B2', 'promoted_content': None, 'query': '%23%E9%83%A1%E9%81%93%E7%BE%8E%E7%8E%B2', 'tweet_volume': None}, {'name': '#MadeinLagos', 'url': 'http://twitter.com/search?q=%23MadeinLagos', 'promoted_content': None, 'query': '%23MadeinLagos', 'tweet_volume': 85447}, {'name': '#Regierungserklärung', 'url': 'http://twitter.com/search?q=%23Regierungserkl%C3%A4rung', 'promoted_content': None, 'query': '%23Regierungserkl%C3%A4rung', 'tweet_volume': None}, {'name': '#FelizJueves', 'url': 'http://twitter.com/search?q=%23FelizJueves', 'promoted_content': None, 'query': '%23FelizJueves', 'tweet_volume': None}, {'name': '#duduzanezuma', 'url': 'http://twitter.com/search?q=%23duduzanezuma', 'promoted_content': None, 'query': '%23duduzanezuma', 'tweet_volume': None}, {'name': '#Wチャンスに挑戦', 'url': 'http://twitter.com/search?q=%23W%E3%83%81%E3%83%A3%E3%83%B3%E3%82%B9%E3%81%AB%E6%8C%91%E6%88%A6', 'promoted_content': None, 'query': '%23W%E3%83%81%E3%83%A3%E3%83%B3%E3%82%B9%E3%81%AB%E6%8C%91%E6%88%A6', 'tweet_volume': None}], 'as_of': '2020-10-29T09:16:05Z', 'created_at': '2020-10-28T05:49:00Z', 'locations': [{'name': 'Worldwide', 'woeid': 1}]}]\n"
     ]
    }
   ],
   "source": [
    "WORLD_WOE_ID = 1 # The \"Yahoo! Where On Earth ID\" for the entire world\n",
    "world_trends = twitter_api.trends.place(_id=WORLD_WOE_ID) # get back a callable\n",
    "print(world_trends)"
   ]
  },
  {
   "cell_type": "markdown",
   "metadata": {},
   "source": [
    "### Task 1\n",
    "Twitter uses WOEIDs. Find out how WORLD_WOE_IDs were originally defined by Yahoo! and try to use others in a query. What kind of differences do you find between the worldwide trends and the local trends? \n"
   ]
  },
  {
   "cell_type": "code",
   "execution_count": 4,
   "metadata": {},
   "outputs": [
    {
     "name": "stdout",
     "output_type": "stream",
     "text": [
      "[{'trends': [{'name': '#BB22', 'url': 'http://twitter.com/search?q=%23BB22', 'promoted_content': None, 'query': '%23BB22', 'tweet_volume': 105034}, {'name': 'Wine', 'url': 'http://twitter.com/search?q=Wine', 'promoted_content': None, 'query': 'Wine', 'tweet_volume': 95252}, {'name': 'Tucker', 'url': 'http://twitter.com/search?q=Tucker', 'promoted_content': None, 'query': 'Tucker', 'tweet_volume': 494866}, {'name': 'Enzo', 'url': 'http://twitter.com/search?q=Enzo', 'promoted_content': None, 'query': 'Enzo', 'tweet_volume': 40296}, {'name': 'Hunter Biden', 'url': 'http://twitter.com/search?q=%22Hunter+Biden%22', 'promoted_content': None, 'query': '%22Hunter+Biden%22', 'tweet_volume': 805939}, {'name': '#BigBrother', 'url': 'http://twitter.com/search?q=%23BigBrother', 'promoted_content': None, 'query': '%23BigBrother', 'tweet_volume': None}, {'name': 'mnet', 'url': 'http://twitter.com/search?q=mnet', 'promoted_content': None, 'query': 'mnet', 'tweet_volume': 484032}, {'name': \"MAMA's Fan Choice Awards\", 'url': 'http://twitter.com/search?q=%22MAMA%27s+Fan+Choice+Awards%22', 'promoted_content': None, 'query': '%22MAMA%27s+Fan+Choice+Awards%22', 'tweet_volume': 120587}, {'name': 'UNCLE SUGA', 'url': 'http://twitter.com/search?q=%22UNCLE+SUGA%22', 'promoted_content': None, 'query': '%22UNCLE+SUGA%22', 'tweet_volume': 32188}, {'name': 'Clive', 'url': 'http://twitter.com/search?q=Clive', 'promoted_content': None, 'query': 'Clive', 'tweet_volume': None}, {'name': 'Jack Nicklaus', 'url': 'http://twitter.com/search?q=%22Jack+Nicklaus%22', 'promoted_content': None, 'query': '%22Jack+Nicklaus%22', 'tweet_volume': 13152}, {'name': '#hotgirlsagainstabortion', 'url': 'http://twitter.com/search?q=%23hotgirlsagainstabortion', 'promoted_content': None, 'query': '%23hotgirlsagainstabortion', 'tweet_volume': None}, {'name': 'Tyga', 'url': 'http://twitter.com/search?q=Tyga', 'promoted_content': None, 'query': 'Tyga', 'tweet_volume': 10757}, {'name': 'Marriage', 'url': 'http://twitter.com/search?q=Marriage', 'promoted_content': None, 'query': 'Marriage', 'tweet_volume': 122227}, {'name': 'Perdue', 'url': 'http://twitter.com/search?q=Perdue', 'promoted_content': None, 'query': 'Perdue', 'tweet_volume': 41936}, {'name': 'Sweet Night', 'url': 'http://twitter.com/search?q=%22Sweet+Night%22', 'promoted_content': None, 'query': '%22Sweet+Night%22', 'tweet_volume': 60458}, {'name': '#EXOLProtectChanyeol', 'url': 'http://twitter.com/search?q=%23EXOLProtectChanyeol', 'promoted_content': None, 'query': '%23EXOLProtectChanyeol', 'tweet_volume': 225422}, {'name': '#eretdress', 'url': 'http://twitter.com/search?q=%23eretdress', 'promoted_content': None, 'query': '%23eretdress', 'tweet_volume': 41350}, {'name': 'Ossoff', 'url': 'http://twitter.com/search?q=Ossoff', 'promoted_content': None, 'query': 'Ossoff', 'tweet_volume': 85091}, {'name': 'Butter', 'url': 'http://twitter.com/search?q=Butter', 'promoted_content': None, 'query': 'Butter', 'tweet_volume': 56217}, {'name': 'FFXVI', 'url': 'http://twitter.com/search?q=FFXVI', 'promoted_content': None, 'query': 'FFXVI', 'tweet_volume': 13515}, {'name': 'mcountdown', 'url': 'http://twitter.com/search?q=mcountdown', 'promoted_content': None, 'query': 'mcountdown', 'tweet_volume': 30266}, {'name': 'Beach', 'url': 'http://twitter.com/search?q=Beach', 'promoted_content': None, 'query': 'Beach', 'tweet_volume': 82268}, {'name': 'Captain Moroni', 'url': 'http://twitter.com/search?q=%22Captain+Moroni%22', 'promoted_content': None, 'query': '%22Captain+Moroni%22', 'tweet_volume': None}, {'name': 'Girl Scouts', 'url': 'http://twitter.com/search?q=%22Girl+Scouts%22', 'promoted_content': None, 'query': '%22Girl+Scouts%22', 'tweet_volume': 36544}, {'name': 'Vodka', 'url': 'http://twitter.com/search?q=Vodka', 'promoted_content': None, 'query': 'Vodka', 'tweet_volume': 36500}, {'name': 'Crabs', 'url': 'http://twitter.com/search?q=Crabs', 'promoted_content': None, 'query': 'Crabs', 'tweet_volume': None}, {'name': 'Chipotle', 'url': 'http://twitter.com/search?q=Chipotle', 'promoted_content': None, 'query': 'Chipotle', 'tweet_volume': 10093}, {'name': 'Manchu', 'url': 'http://twitter.com/search?q=Manchu', 'promoted_content': None, 'query': 'Manchu', 'tweet_volume': None}, {'name': 'DeJoy', 'url': 'http://twitter.com/search?q=DeJoy', 'promoted_content': None, 'query': 'DeJoy', 'tweet_volume': 35540}, {'name': 'Zeta', 'url': 'http://twitter.com/search?q=Zeta', 'promoted_content': None, 'query': 'Zeta', 'tweet_volume': 108307}, {'name': 'Dimitri', 'url': 'http://twitter.com/search?q=Dimitri', 'promoted_content': None, 'query': 'Dimitri', 'tweet_volume': None}, {'name': 'Da’Vonne', 'url': 'http://twitter.com/search?q=Da%E2%80%99Vonne', 'promoted_content': None, 'query': 'Da%E2%80%99Vonne', 'tweet_volume': 19550}, {'name': 'Pizza', 'url': 'http://twitter.com/search?q=Pizza', 'promoted_content': None, 'query': 'Pizza', 'tweet_volume': 150050}, {'name': 'Calgary', 'url': 'http://twitter.com/search?q=Calgary', 'promoted_content': None, 'query': 'Calgary', 'tweet_volume': 14082}, {'name': 'New Car', 'url': 'http://twitter.com/search?q=%22New+Car%22', 'promoted_content': None, 'query': '%22New+Car%22', 'tweet_volume': 15077}, {'name': 'chaeyoung', 'url': 'http://twitter.com/search?q=chaeyoung', 'promoted_content': None, 'query': 'chaeyoung', 'tweet_volume': 68685}, {'name': 'covey spreader', 'url': 'http://twitter.com/search?q=%22covey+spreader%22', 'promoted_content': None, 'query': '%22covey+spreader%22', 'tweet_volume': None}, {'name': 'WOULD YOU DATE SOMEONE WHO', 'url': 'http://twitter.com/search?q=%22WOULD+YOU+DATE+SOMEONE+WHO%22', 'promoted_content': None, 'query': '%22WOULD+YOU+DATE+SOMEONE+WHO%22', 'tweet_volume': None}, {'name': '5sos', 'url': 'http://twitter.com/search?q=5sos', 'promoted_content': None, 'query': '5sos', 'tweet_volume': 15994}, {'name': 'Amani', 'url': 'http://twitter.com/search?q=Amani', 'promoted_content': None, 'query': 'Amani', 'tweet_volume': 10044}, {'name': 'The Golden Bear', 'url': 'http://twitter.com/search?q=%22The+Golden+Bear%22', 'promoted_content': None, 'query': '%22The+Golden+Bear%22', 'tweet_volume': None}, {'name': 'FedEx', 'url': 'http://twitter.com/search?q=FedEx', 'promoted_content': None, 'query': 'FedEx', 'tweet_volume': 18367}, {'name': 'Mr. Nicklaus', 'url': 'http://twitter.com/search?q=%22Mr.+Nicklaus%22', 'promoted_content': None, 'query': '%22Mr.+Nicklaus%22', 'tweet_volume': None}, {'name': 'zico', 'url': 'http://twitter.com/search?q=zico', 'promoted_content': None, 'query': 'zico', 'tweet_volume': 13219}, {'name': 'anibal', 'url': 'http://twitter.com/search?q=anibal', 'promoted_content': None, 'query': 'anibal', 'tweet_volume': None}, {'name': 'elmyra', 'url': 'http://twitter.com/search?q=elmyra', 'promoted_content': None, 'query': 'elmyra', 'tweet_volume': None}, {'name': 'Ivy Park', 'url': 'http://twitter.com/search?q=%22Ivy+Park%22', 'promoted_content': None, 'query': '%22Ivy+Park%22', 'tweet_volume': None}, {'name': 'JitB', 'url': 'http://twitter.com/search?q=JitB', 'promoted_content': None, 'query': 'JitB', 'tweet_volume': None}, {'name': 'aksel', 'url': 'http://twitter.com/search?q=aksel', 'promoted_content': None, 'query': 'aksel', 'tweet_volume': None}], 'as_of': '2020-10-29T09:16:09Z', 'created_at': '2020-10-27T20:42:55Z', 'locations': [{'name': 'New York', 'woeid': 2459115}]}]\n"
     ]
    }
   ],
   "source": [
    "# Your code here\n",
    "WORLD_WOE_ID = 2459115 #New York\n",
    "world_trends = twitter_api.trends.place(_id=WORLD_WOE_ID)\n",
    "print(world_trends)"
   ]
  },
  {
   "cell_type": "markdown",
   "metadata": {},
   "source": [
    "### 1.2: Retrieving search results (from Example 1-5/9-3 in Mining the Social Web):"
   ]
  },
  {
   "cell_type": "code",
   "execution_count": 5,
   "metadata": {},
   "outputs": [
    {
     "name": "stdout",
     "output_type": "stream",
     "text": [
      "<class 'list'>\n",
      "{\n",
      " \"created_at\": \"Thu Oct 29 09:17:00 +0000 2020\",\n",
      " \"id\": 1321742823708741632,\n",
      " \"id_str\": \"1321742823708741632\",\n",
      " \"text\": \"https://t.co/HKXGEj4J7f #ThrowbackThursday Best R&amp;B Trios If All Time #music\",\n",
      " \"truncated\": false,\n",
      " \"entities\": {\n",
      "  \"hashtags\": [\n",
      "   {\n",
      "    \"text\": \"ThrowbackThursday\",\n",
      "    \"indices\": [\n",
      "     24,\n",
      "     42\n",
      "    ]\n",
      "   },\n",
      "   {\n",
      "    \"text\": \"music\",\n",
      "    \"indices\": [\n",
      "     74,\n",
      "     80\n",
      "    ]\n",
      "   }\n",
      "  ],\n",
      "  \"symbols\": [],\n",
      "  \"user_mentions\": [],\n",
      "  \"urls\": [\n",
      "   {\n",
      "    \"url\": \"https://t.co/HKXGEj4J7f\",\n",
      "    \"expanded_url\": \"https://m.ranker.com/list/best-rhythm-and-blues-trios/ranker-music\",\n",
      "    \"display_url\": \"m.ranker.com/list/best-rhyt\\u2026\",\n",
      "    \"indices\": [\n",
      "     0,\n",
      "     23\n",
      "    ]\n",
      "   }\n",
      "  ]\n",
      " },\n",
      " \"metadata\": {\n",
      "  \"iso_language_code\": \"en\",\n",
      "  \"result_type\": \"recent\"\n",
      " },\n",
      " \"source\": \"<a href=\\\"http://twitter.com/download/android\\\" rel=\\\"nofollow\\\">Twitter for Android</a>\",\n",
      " \"in_reply_to_status_id\": null,\n",
      " \"in_reply_to_status_id_str\": null,\n",
      " \"in_reply_to_user_id\": null,\n",
      " \"in_reply_to_user_id_str\": null,\n",
      " \"in_reply_to_screen_name\": null,\n",
      " \"user\": {\n",
      "  \"id\": 1528654718,\n",
      "  \"id_str\": \"1528654718\",\n",
      "  \"name\": \"Arthur Smith\",\n",
      "  \"screen_name\": \"Detcookieman74\",\n",
      "  \"location\": \"Vacaville Ca Detroit Mi \",\n",
      "  \"description\": \"Retired Local Musician-MCee-Elks IBPOE of W / Former Precinct Delegate City of Detroit 11-13/ Community Activist/Retired Professional Driver..Politics & Sports\",\n",
      "  \"url\": null,\n",
      "  \"entities\": {\n",
      "   \"description\": {\n",
      "    \"urls\": []\n",
      "   }\n",
      "  },\n",
      "  \"protected\": false,\n",
      "  \"followers_count\": 1535,\n",
      "  \"friends_count\": 1564,\n",
      "  \"listed_count\": 0,\n",
      "  \"created_at\": \"Tue Jun 18 19:37:49 +0000 2013\",\n",
      "  \"favourites_count\": 127715,\n",
      "  \"utc_offset\": null,\n",
      "  \"time_zone\": null,\n",
      "  \"geo_enabled\": true,\n",
      "  \"verified\": false,\n",
      "  \"statuses_count\": 139979,\n",
      "  \"lang\": null,\n",
      "  \"contributors_enabled\": false,\n",
      "  \"is_translator\": false,\n",
      "  \"is_translation_enabled\": false,\n",
      "  \"profile_background_color\": \"C0DEED\",\n",
      "  \"profile_background_image_url\": \"http://abs.twimg.com/images/themes/theme1/bg.png\",\n",
      "  \"profile_background_image_url_https\": \"https://abs.twimg.com/images/themes/theme1/bg.png\",\n",
      "  \"profile_background_tile\": false,\n",
      "  \"profile_image_url\": \"http://pbs.twimg.com/profile_images/823612669475233792/HcFWGsw6_normal.jpg\",\n",
      "  \"profile_image_url_https\": \"https://pbs.twimg.com/profile_images/823612669475233792/HcFWGsw6_normal.jpg\",\n",
      "  \"profile_banner_url\": \"https://pbs.twimg.com/profile_banners/1528654718/1481243791\",\n",
      "  \"profile_link_color\": \"1DA1F2\",\n",
      "  \"profile_sidebar_border_color\": \"C0DEED\",\n",
      "  \"profile_sidebar_fill_color\": \"DDEEF6\",\n",
      "  \"profile_text_color\": \"333333\",\n",
      "  \"profile_use_background_image\": true,\n",
      "  \"has_extended_profile\": false,\n",
      "  \"default_profile\": true,\n",
      "  \"default_profile_image\": false,\n",
      "  \"following\": false,\n",
      "  \"follow_request_sent\": false,\n",
      "  \"notifications\": false,\n",
      "  \"translator_type\": \"none\"\n",
      " },\n",
      " \"geo\": null,\n",
      " \"coordinates\": null,\n",
      " \"place\": {\n",
      "  \"id\": \"50df1c2f85d2654d\",\n",
      "  \"url\": \"https://api.twitter.com/1.1/geo/id/50df1c2f85d2654d.json\",\n",
      "  \"place_type\": \"city\",\n",
      "  \"name\": \"Vacaville\",\n",
      "  \"full_name\": \"Vacaville, CA\",\n",
      "  \"country_code\": \"US\",\n",
      "  \"country\": \"United States\",\n",
      "  \"contained_within\": [],\n",
      "  \"bounding_box\": {\n",
      "   \"type\": \"Polygon\",\n",
      "   \"coordinates\": [\n",
      "    [\n",
      "     [\n",
      "      -122.0327579,\n",
      "      38.308561\n",
      "     ],\n",
      "     [\n",
      "      -121.911095,\n",
      "      38.308561\n",
      "     ],\n",
      "     [\n",
      "      -121.911095,\n",
      "      38.417127\n",
      "     ],\n",
      "     [\n",
      "      -122.0327579,\n",
      "      38.417127\n",
      "     ]\n",
      "    ]\n",
      "   ]\n",
      "  },\n",
      "  \"attributes\": {}\n",
      " },\n",
      " \"contributors\": null,\n",
      " \"is_quote_status\": false,\n",
      " \"retweet_count\": 0,\n",
      " \"favorite_count\": 0,\n",
      " \"favorited\": false,\n",
      " \"retweeted\": false,\n",
      " \"possibly_sensitive\": false,\n",
      " \"lang\": \"en\"\n",
      "}\n"
     ]
    }
   ],
   "source": [
    "q = '#ThrowbackThursday' # XXX: Set this variable to a trending topic, or anything else you like. \n",
    "count = 100 # number of results to retrieve\n",
    "\n",
    "# See https://dev.twitter.com/docs/api/1.1/get/search/tweets for more info\n",
    "\n",
    "search_results = twitter_api.search.tweets(q=q, count=count) # search for your query 'q' 100 times\n",
    "statuses = search_results['statuses'] # extract the tweets found\n",
    "\n",
    "# The following code allows you to print in a nice format the contents of search_results\n",
    "import json\n",
    "print(type(statuses))\n",
    "print(json.dumps(statuses[0], indent=1))"
   ]
  },
  {
   "cell_type": "markdown",
   "metadata": {},
   "source": [
    "### Task 2\n",
    "\n",
    "In the cell below, create a second variable (e.g. `statuses2`) that holds the results of a query other than the one presented above. Think about a query that would yield very different results than the first one, for example one that may yield a shorter output or about a different topic."
   ]
  },
  {
   "cell_type": "code",
   "execution_count": 92,
   "metadata": {},
   "outputs": [
    {
     "name": "stdout",
     "output_type": "stream",
     "text": [
      "<class 'list'>\n",
      "{\n",
      "  \"created_at\": \"Thu Oct 29 11:35:24 +0000 2020\",\n",
      "  \"id\": 1321777653167329280,\n",
      "  \"id_str\": \"1321777653167329280\",\n",
      "  \"text\": \"RT @DrNinaRadcliff: Went 4 my #beach #walk  &amp; #campaigning. Except for 1 kid, over 50 people I encountered said they #voted &amp; they voted 4\\u2026\",\n",
      "  \"truncated\": false,\n",
      "  \"entities\": {\n",
      "    \"hashtags\": [\n",
      "      {\n",
      "        \"text\": \"beach\",\n",
      "        \"indices\": [\n",
      "          30,\n",
      "          36\n",
      "        ]\n",
      "      },\n",
      "      {\n",
      "        \"text\": \"walk\",\n",
      "        \"indices\": [\n",
      "          37,\n",
      "          42\n",
      "        ]\n",
      "      },\n",
      "      {\n",
      "        \"text\": \"campaigning\",\n",
      "        \"indices\": [\n",
      "          50,\n",
      "          62\n",
      "        ]\n",
      "      },\n",
      "      {\n",
      "        \"text\": \"voted\",\n",
      "        \"indices\": [\n",
      "          121,\n",
      "          127\n",
      "        ]\n",
      "      }\n",
      "    ],\n",
      "    \"symbols\": [],\n",
      "    \"user_mentions\": [\n",
      "      {\n",
      "        \"screen_name\": \"DrNinaRadcliff\",\n",
      "        \"name\": \"Nina Radcliff\",\n",
      "        \"id\": 1095558246,\n",
      "        \"id_str\": \"1095558246\",\n",
      "        \"indices\": [\n",
      "          3,\n",
      "          18\n",
      "        ]\n",
      "      }\n",
      "    ],\n",
      "    \"urls\": []\n",
      "  },\n",
      "  \"metadata\": {\n",
      "    \"iso_language_code\": \"en\",\n",
      "    \"result_type\": \"recent\"\n",
      "  },\n",
      "  \"source\": \"<a href=\\\"https://mobile.twitter.com\\\" rel=\\\"nofollow\\\">Twitter Web App</a>\",\n",
      "  \"in_reply_to_status_id\": null,\n",
      "  \"in_reply_to_status_id_str\": null,\n",
      "  \"in_reply_to_user_id\": null,\n",
      "  \"in_reply_to_user_id_str\": null,\n",
      "  \"in_reply_to_screen_name\": null,\n",
      "  \"user\": {\n",
      "    \"id\": 1010658750875799552,\n",
      "    \"id_str\": \"1010658750875799552\",\n",
      "    \"name\": \"Surfer Girl\",\n",
      "    \"screen_name\": \"MaryRob99123297\",\n",
      "    \"location\": \"\",\n",
      "    \"description\": \"GOD COUNTRY MAGA CONSERVATIVE WIFE MOM BELLA\",\n",
      "    \"url\": null,\n",
      "    \"entities\": {\n",
      "      \"description\": {\n",
      "        \"urls\": []\n",
      "      }\n",
      "    },\n",
      "    \"protected\": false,\n",
      "    \"followers_count\": 181,\n",
      "    \"friends_count\": 328,\n",
      "    \"listed_count\": 0,\n",
      "    \"created_at\": \"Sat Jun 23 22:59:58 +0000 2018\",\n",
      "    \"favourites_count\": 216,\n",
      "    \"utc_offset\": null,\n",
      "    \"time_zone\": null,\n",
      "    \"geo_enabled\": false,\n",
      "    \"verified\": false,\n",
      "    \"statuses_count\": 10536,\n",
      "    \"lang\": null,\n",
      "    \"contributors_enabled\": false,\n",
      "    \"is_translator\": false,\n",
      "    \"is_translation_enabled\": false,\n",
      "    \"profile_background_color\": \"F5F8FA\",\n",
      "    \"profile_background_image_url\": null,\n",
      "    \"profile_background_image_url_https\": null,\n",
      "    \"profile_background_tile\": false,\n",
      "    \"profile_image_url\": \"http://pbs.twimg.com/profile_images/1273327001026342912/l1Tg6wof_normal.jpg\",\n",
      "    \"profile_image_url_https\": \"https://pbs.twimg.com/profile_images/1273327001026342912/l1Tg6wof_normal.jpg\",\n",
      "    \"profile_banner_url\": \"https://pbs.twimg.com/profile_banners/1010658750875799552/1592756545\",\n",
      "    \"profile_link_color\": \"1DA1F2\",\n",
      "    \"profile_sidebar_border_color\": \"C0DEED\",\n",
      "    \"profile_sidebar_fill_color\": \"DDEEF6\",\n",
      "    \"profile_text_color\": \"333333\",\n",
      "    \"profile_use_background_image\": true,\n",
      "    \"has_extended_profile\": false,\n",
      "    \"default_profile\": true,\n",
      "    \"default_profile_image\": false,\n",
      "    \"following\": false,\n",
      "    \"follow_request_sent\": false,\n",
      "    \"notifications\": false,\n",
      "    \"translator_type\": \"none\"\n",
      "  },\n",
      "  \"geo\": null,\n",
      "  \"coordinates\": null,\n",
      "  \"place\": null,\n",
      "  \"contributors\": null,\n",
      "  \"retweeted_status\": {\n",
      "    \"created_at\": \"Thu Oct 29 11:02:52 +0000 2020\",\n",
      "    \"id\": 1321769465437163521,\n",
      "    \"id_str\": \"1321769465437163521\",\n",
      "    \"text\": \"Went 4 my #beach #walk  &amp; #campaigning. Except for 1 kid, over 50 people I encountered said they #voted &amp; they vote\\u2026 https://t.co/XfJ6XJhYPt\",\n",
      "    \"truncated\": true,\n",
      "    \"entities\": {\n",
      "      \"hashtags\": [\n",
      "        {\n",
      "          \"text\": \"beach\",\n",
      "          \"indices\": [\n",
      "            10,\n",
      "            16\n",
      "          ]\n",
      "        },\n",
      "        {\n",
      "          \"text\": \"walk\",\n",
      "          \"indices\": [\n",
      "            17,\n",
      "            22\n",
      "          ]\n",
      "        },\n",
      "        {\n",
      "          \"text\": \"campaigning\",\n",
      "          \"indices\": [\n",
      "            30,\n",
      "            42\n",
      "          ]\n",
      "        },\n",
      "        {\n",
      "          \"text\": \"voted\",\n",
      "          \"indices\": [\n",
      "            101,\n",
      "            107\n",
      "          ]\n",
      "        }\n",
      "      ],\n",
      "      \"symbols\": [],\n",
      "      \"user_mentions\": [],\n",
      "      \"urls\": [\n",
      "        {\n",
      "          \"url\": \"https://t.co/XfJ6XJhYPt\",\n",
      "          \"expanded_url\": \"https://twitter.com/i/web/status/1321769465437163521\",\n",
      "          \"display_url\": \"twitter.com/i/web/status/1\\u2026\",\n",
      "          \"indices\": [\n",
      "            125,\n",
      "            148\n",
      "          ]\n",
      "        }\n",
      "      ]\n",
      "    },\n",
      "    \"metadata\": {\n",
      "      \"iso_language_code\": \"en\",\n",
      "      \"result_type\": \"recent\"\n",
      "    },\n",
      "    \"source\": \"<a href=\\\"http://twitter.com/download/iphone\\\" rel=\\\"nofollow\\\">Twitter for iPhone</a>\",\n",
      "    \"in_reply_to_status_id\": null,\n",
      "    \"in_reply_to_status_id_str\": null,\n",
      "    \"in_reply_to_user_id\": null,\n",
      "    \"in_reply_to_user_id_str\": null,\n",
      "    \"in_reply_to_screen_name\": null,\n",
      "    \"user\": {\n",
      "      \"id\": 1095558246,\n",
      "      \"id_str\": \"1095558246\",\n",
      "      \"name\": \"Nina Radcliff\",\n",
      "      \"screen_name\": \"DrNinaRadcliff\",\n",
      "      \"location\": \"\",\n",
      "      \"description\": \"Donald J. Trump for President Medical Advisory Board, Frontline Physician, in the trenches against COVID, Medical Analyst/Journalist, Mom to an Angel #Trump2020\",\n",
      "      \"url\": \"https://t.co/UxA2GrXLav\",\n",
      "      \"entities\": {\n",
      "        \"url\": {\n",
      "          \"urls\": [\n",
      "            {\n",
      "              \"url\": \"https://t.co/UxA2GrXLav\",\n",
      "              \"expanded_url\": \"http://www.drninaradcliff.com\",\n",
      "              \"display_url\": \"drninaradcliff.com\",\n",
      "              \"indices\": [\n",
      "                0,\n",
      "                23\n",
      "              ]\n",
      "            }\n",
      "          ]\n",
      "        },\n",
      "        \"description\": {\n",
      "          \"urls\": []\n",
      "        }\n",
      "      },\n",
      "      \"protected\": false,\n",
      "      \"followers_count\": 35996,\n",
      "      \"friends_count\": 38455,\n",
      "      \"listed_count\": 307,\n",
      "      \"created_at\": \"Wed Jan 16 15:45:42 +0000 2013\",\n",
      "      \"favourites_count\": 21434,\n",
      "      \"utc_offset\": null,\n",
      "      \"time_zone\": null,\n",
      "      \"geo_enabled\": true,\n",
      "      \"verified\": false,\n",
      "      \"statuses_count\": 6376,\n",
      "      \"lang\": null,\n",
      "      \"contributors_enabled\": false,\n",
      "      \"is_translator\": false,\n",
      "      \"is_translation_enabled\": false,\n",
      "      \"profile_background_color\": \"C0DEED\",\n",
      "      \"profile_background_image_url\": \"http://abs.twimg.com/images/themes/theme1/bg.png\",\n",
      "      \"profile_background_image_url_https\": \"https://abs.twimg.com/images/themes/theme1/bg.png\",\n",
      "      \"profile_background_tile\": false,\n",
      "      \"profile_image_url\": \"http://pbs.twimg.com/profile_images/655580003405574144/tBZwI_L4_normal.jpg\",\n",
      "      \"profile_image_url_https\": \"https://pbs.twimg.com/profile_images/655580003405574144/tBZwI_L4_normal.jpg\",\n",
      "      \"profile_banner_url\": \"https://pbs.twimg.com/profile_banners/1095558246/1585157669\",\n",
      "      \"profile_link_color\": \"1DA1F2\",\n",
      "      \"profile_sidebar_border_color\": \"C0DEED\",\n",
      "      \"profile_sidebar_fill_color\": \"DDEEF6\",\n",
      "      \"profile_text_color\": \"333333\",\n",
      "      \"profile_use_background_image\": true,\n",
      "      \"has_extended_profile\": true,\n",
      "      \"default_profile\": true,\n",
      "      \"default_profile_image\": false,\n",
      "      \"following\": false,\n",
      "      \"follow_request_sent\": false,\n",
      "      \"notifications\": false,\n",
      "      \"translator_type\": \"none\"\n",
      "    },\n",
      "    \"geo\": null,\n",
      "    \"coordinates\": null,\n",
      "    \"place\": null,\n",
      "    \"contributors\": null,\n",
      "    \"is_quote_status\": false,\n",
      "    \"retweet_count\": 20,\n",
      "    \"favorite_count\": 93,\n",
      "    \"favorited\": false,\n",
      "    \"retweeted\": false,\n",
      "    \"possibly_sensitive\": false,\n",
      "    \"lang\": \"en\"\n",
      "  },\n",
      "  \"is_quote_status\": false,\n",
      "  \"retweet_count\": 20,\n",
      "  \"favorite_count\": 0,\n",
      "  \"favorited\": false,\n",
      "  \"retweeted\": false,\n",
      "  \"lang\": \"en\"\n",
      "}\n"
     ]
    }
   ],
   "source": [
    "#question: Why does it have to be q?\n",
    "\n",
    "q = '#VOTE'\n",
    "count = 15\n",
    "\n",
    "search_results = twitter_api.search.tweets(q=q, count=count) # search for your query 'q' 15 times\n",
    "statuses2 = search_results['statuses'] # extract the tweets found\n",
    "\n",
    "import json\n",
    "print(type(statuses2))\n",
    "#question: why is [0] added to statusses? I don't see a different result when i delete [0]\n",
    "print(json.dumps(statuses2[0], indent=2))"
   ]
  },
  {
   "cell_type": "markdown",
   "metadata": {},
   "source": [
    "## Part 2: Extracting text, screen names, and hashtags from tweets (from Example 1-6 in Mining the Social Web)\n",
    "\n",
    "Simply printing all the search results to screen is nice, but to really start analysing them, it is handy to select the interesting parts and store them in a different structure such as a list. \n",
    "\n",
    "In this example you are using a thing called \"List Comprehension\".\n",
    "\n",
    "### 2.1 List Comprehensions\n",
    "List comprehension is a powerful construct that allows to succinctly build a list.\n",
    "With it you can process items from any iterable (e.g. dictionaries, lists, tuples, iterators...) and output a list while optionally performing an operation on each value.\n",
    "\n",
    "Here's a few examples:"
   ]
  },
  {
   "cell_type": "code",
   "execution_count": 30,
   "metadata": {},
   "outputs": [
    {
     "name": "stdout",
     "output_type": "stream",
     "text": [
      "[0, 2, 4, 6, 8, 10, 12, 14, 16, 18]\n",
      "[1, 9, 25, 49, 81]\n",
      "['The', 'Social', 'Web']\n",
      "[3, 6, 3]\n",
      "[1, 2, 3, 4, 5, 6, 7, 8, 9]\n"
     ]
    }
   ],
   "source": [
    "# double all values from 0 to 9\n",
    "double_list = [i*2 for i in range(10)]\n",
    "# raise to the power of 2, but only if the number is uneven\n",
    "power_even_list = [i**2 for i in range(10) if i%2!=0]\n",
    "# clean strings in a tuple\n",
    "stripped_lines = [x.strip() for x in ('The\\n', 'Social\\n', 'Web\\n')]\n",
    "# return length of each string in stripped_lines\n",
    "len_str_lines = [len(s) for s in stripped_lines]\n",
    "# finally, we can nest list comprehensions to flatten a list of lists:\n",
    "list_of_lists = [[1, 2, 3], [4, 5, 6], [7, 8, 9]]\n",
    "range_9 = [x for y in list_of_lists for x in y]\n",
    "\n",
    "print(double_list)\n",
    "print(power_even_list)\n",
    "print(stripped_lines)\n",
    "print(len_str_lines)\n",
    "print(range_9)"
   ]
  },
  {
   "cell_type": "markdown",
   "metadata": {},
   "source": [
    "### 2.2 Parsing text, screen names and hashtags from tweets\n",
    "*(from Example 1-6 in Mining the Social Web)*\n",
    "\n",
    "Hereafter, we'll be creating a variable `status_texts` of type list. \\\n",
    "The list will be filled with the `text` elements from each `status`, whereas `status` comes from looping through all `statuses` in the `search_results` list (1.2). \\\n",
    "Look up the list comprehensions in your Python reference materials to make sure you understand what's happening here. "
   ]
  },
  {
   "cell_type": "code",
   "execution_count": 8,
   "metadata": {},
   "outputs": [
    {
     "name": "stdout",
     "output_type": "stream",
     "text": [
      "[\n",
      " \"https://t.co/HKXGEj4J7f #ThrowbackThursday Best R&amp;B Trios If All Time #music\",\n",
      " \"RT @WilliamsRef: #ThrowbackThursday to when we supplied a variety of equipment to Middletons #Steakhouse in Leicester. \\ud83e\\udd69\\n\\nThis included Jad\\u2026\",\n",
      " \"#ThrowbackThursday Sommer 2018\\n\\nKuscheln mit dem Nichtenkind https://t.co/wbOsDgMgqh\",\n",
      " \"#ThrowBackThursday\\ud83d\\ude0f https://t.co/xopEJxkjDA\",\n",
      " \"First Hike\\nThanks to @adiaha_young \\n#ThrowbackThursday https://t.co/Y5Ua70w5iG\"\n",
      "]\n",
      "[\n",
      " \"WilliamsRef\",\n",
      " \"adiaha_young\",\n",
      " \"Mr_Fairwood\",\n",
      " \"Lettiemolefe1\",\n",
      " \"nadya_ar_\"\n",
      "]\n",
      "[\n",
      " \"ThrowbackThursday\",\n",
      " \"music\",\n",
      " \"ThrowbackThursday\",\n",
      " \"Steakhouse\",\n",
      " \"ThrowbackThursday\"\n",
      "]\n",
      "[\n",
      " \"https://t.co/HKXGEj4J7f\",\n",
      " \"#ThrowbackThursday\",\n",
      " \"Best\",\n",
      " \"R&amp;B\",\n",
      " \"Trios\"\n",
      "]\n"
     ]
    }
   ],
   "source": [
    "status_texts = [ status['text'] for status in statuses ]\n",
    "# the escape character \"\\\" allows for the list comprehension to continue\n",
    "# on a new line. While not strictly necessary, it makes code more readable\n",
    "# for your fellow programmers.\n",
    "screen_names = [ user_mention['screen_name'] for status in statuses \\\n",
    "                for user_mention in status['entities']['user_mentions'] ]\n",
    "\n",
    "hashtags = [ hashtag['text'] for status in statuses \\\n",
    "        for hashtag in status['entities']['hashtags'] ]\n",
    "\n",
    "# Compute a collection of all words from all tweets\n",
    "words = [ w for t in status_texts for w in t.split() ] #split the string on the empty spaces\n",
    "\n",
    "# Explore the first 5 items for each...\n",
    "print(json.dumps(status_texts[0:5], indent=1))\n",
    "print(json.dumps(screen_names[0:5], indent=1))\n",
    "print(json.dumps(hashtags[0:5], indent=1))\n",
    "print(json.dumps(words[0:5], indent=1))"
   ]
  },
  {
   "cell_type": "markdown",
   "metadata": {},
   "source": [
    "### Task 3\n",
    "\n",
    "You are now ready to parse usernames, hashtags and text from the results you previously obtained in Task 2 (e.g. `statuses_2`). While doing it, make sure to leave the variables created in 2.2 untouched. Instead, create your own variable names, which you'll be using soon.\n"
   ]
  },
  {
   "cell_type": "code",
   "execution_count": 93,
   "metadata": {},
   "outputs": [
    {
     "name": "stdout",
     "output_type": "stream",
     "text": [
      "[\n",
      " \"RT @DrNinaRadcliff: Went 4 my #beach #walk  &amp; #campaigning. Except for 1 kid, over 50 people I encountered said they #voted &amp; they voted 4\\u2026\",\n",
      " \"RT @WinAmrcaBackPAC: Remember, the election is a job interview.\\n\\n#WouldYouHireTrump #Vote https://t.co/hfU4R8vDMp\",\n",
      " \"RT @WinAmrcaBackPAC: Remember, the election is a job interview.\\n\\n#WouldYouHireTrump #Vote https://t.co/hfU4R8vDMp\",\n",
      " \"RT @WinAmrcaBackPAC: Remember, the election is a job interview.\\n\\n#WouldYouHireTrump #Vote https://t.co/hfU4R8vDMp\",\n",
      " \"Observemos como el hombre mantiene su mano izquierda bajo su control. Trata de domar a su escoria QUE TOMA SU BOCA\\u2026 https://t.co/s1ur5NaBQy\",\n",
      " \"RT @Albumism: Be like @StevieNicks. Be involved. Be proactive. Be awesome. #Vote #VoteEarly #DontMailInYourBallot #DropOffYourBallot #FiveD\\u2026\",\n",
      " \"This just might be the most easily digestible anti-Trvmp ad I've seen to date. Wish it'd come out sooner. It should\\u2026 https://t.co/Nu8oz1KbYC\",\n",
      " \"Young people will vote. \\nDemocracy is on the ballot.\\nGun reform is on the ballot. Our values are on the ballot.\\u2026 https://t.co/yzknulSEfl\",\n",
      " \"RT @iles__: TL sleep? \\n\\nOk bet. Go #Vote https://t.co/nSxEsVEK7z\",\n",
      " \"#Vote https://t.co/5HNFuPEcHm\"\n",
      "]\n",
      "[\n",
      " \"DrNinaRadcliff\",\n",
      " \"WinAmrcaBackPAC\",\n",
      " \"WinAmrcaBackPAC\",\n",
      " \"WinAmrcaBackPAC\",\n",
      " \"Albumism\",\n",
      " \"StevieNicks\",\n",
      " \"iles__\",\n",
      " \"WinAmrcaBackPAC\",\n",
      " \"patagonia\",\n",
      " \"DanScavino\"\n",
      "]\n",
      "[\n",
      " \"beach\",\n",
      " \"walk\",\n",
      " \"campaigning\",\n",
      " \"voted\",\n",
      " \"WouldYouHireTrump\",\n",
      " \"Vote\",\n",
      " \"WouldYouHireTrump\",\n",
      " \"Vote\",\n",
      " \"WouldYouHireTrump\",\n",
      " \"Vote\"\n",
      "]\n",
      "[\n",
      " \"RT\",\n",
      " \"@DrNinaRadcliff:\",\n",
      " \"Went\",\n",
      " \"4\",\n",
      " \"my\",\n",
      " \"#beach\",\n",
      " \"#walk\",\n",
      " \"&amp;\",\n",
      " \"#campaigning.\",\n",
      " \"Except\"\n",
      "]\n"
     ]
    }
   ],
   "source": [
    "#retrieve content from every tweet in statuses2\n",
    "tweet = [ tweet['text'] for tweet in statuses2 ]\n",
    "\n",
    "#retrieve OP as well as the users OP mentioned in their tweet\n",
    "username = [ user_mention['screen_name'] for tweet in statuses2 \\\n",
    "                for user_mention in tweet['entities']['user_mentions'] ]\n",
    "\n",
    "#retrieving the hashtag from each tweet in statuses2\n",
    "hashtag = [ hashtag['text'] for tweet in statuses2 \\\n",
    "        for hashtag in tweet['entities']['hashtags'] ]\n",
    "\n",
    "#retrieve all words from the tweets and split the words on the spaces\n",
    "word = [ i for j in tweet for i in j.split() ]\n",
    "\n",
    "# Explore the first 5 items for each...\n",
    "print(json.dumps(tweet[0:10], indent=1))\n",
    "print(json.dumps(username[0:10], indent=1))\n",
    "print(json.dumps(hashtag[0:10], indent=1))\n",
    "print(json.dumps(word[0:10], indent=1))"
   ]
  },
  {
   "cell_type": "markdown",
   "metadata": {},
   "source": [
    "## Part 3: Creating a basic frequency distribution from words in tweets\n",
    "*(from Examples 1-7 in Mining the Social Web)* \n",
    "\n",
    "\n",
    "In the cell below we display the 10 most common hashtag instances:"
   ]
  },
  {
   "cell_type": "code",
   "execution_count": 56,
   "metadata": {},
   "outputs": [
    {
     "name": "stdout",
     "output_type": "stream",
     "text": [
      "[('ThrowbackThursday', 76), ('thursdayvibes', 17), ('shehnaazgill', 17), ('biggboss13', 17), ('throwbackthursday', 6), ('InvisibleTies', 2), ('AuthorNadya', 2), ('JoyMohunBagan', 2), ('IndianFootball', 2), ('TBT', 2)]\n"
     ]
    }
   ],
   "source": [
    "from collections import Counter\n",
    "\n",
    "for item in [words, screen_names, hashtags]:\n",
    "    c = Counter(item)\n",
    "    \n",
    "print(c.most_common()[:10]) # top 10"
   ]
  },
  {
   "cell_type": "markdown",
   "metadata": {},
   "source": [
    "Your output should look something like this: \\\n",
    "`[('ThrowbackThursday', 34), ('throwbackthursday', 11), ('TBT', 6), ('ThrowBackThursday', 6), ('Trivia', 3), ('madoka_magica', 2), ('New', 2), ('EURO2020', 2), ('artists', 2)]`\n",
    "\n",
    "### Task 4\n",
    "Show hashtags frequency for results that you obtained in Task 3. Think about possible explanations for the different results you get from the analyses for the different queries.\n"
   ]
  },
  {
   "cell_type": "code",
   "execution_count": 94,
   "metadata": {},
   "outputs": [
    {
     "name": "stdout",
     "output_type": "stream",
     "text": [
      "[('Vote', 8), ('WouldYouHireTrump', 5), ('VOTE', 2), ('beach', 1), ('walk', 1), ('campaigning', 1), ('voted', 1), ('VoteEarly', 1), ('DontMailInYourBallot', 1), ('DropOffYourBallot', 1)]\n"
     ]
    }
   ],
   "source": [
    "#why does #wakeup not show up?\n",
    "from collections import Counter\n",
    "\n",
    "for item in [word, username, hashtag]:\n",
    "    c = Counter(item)\n",
    "    \n",
    "print(c.most_common()[:10])"
   ]
  },
  {
   "cell_type": "markdown",
   "metadata": {},
   "source": [
    "The different results are due to the hastags that are used. In the first query the data about the tweets containing the hashtag \"throwbackthursday\" were used, whereas in the second query data about the tweets containing the hastag \"#vote\" were used."
   ]
  },
  {
   "cell_type": "markdown",
   "metadata": {},
   "source": [
    "### 3.1 Storing your results\n",
    "So far, we have been storing the data in working memory. Often it's handy to store your data to disk so you can retrieve it in a next session. \n",
    "\n",
    "The pickle module lets you do exactly that, by serializing data in a binary format.\n"
   ]
  },
  {
   "cell_type": "code",
   "execution_count": 77,
   "metadata": {},
   "outputs": [],
   "source": [
    "import pickle\n",
    "\n",
    "filepath = \"my_data.pickle\"\n",
    "# this indented python syntax is broadly defined as \"context manager\".\n",
    "# This means that everything happening under its indentation will use f\n",
    "# as file handle to filepath. The Shortand `wb` stands for \"write binary\",\n",
    "# which is how we serialize data to disk.\n",
    "with open(filepath, \"wb\") as f:\n",
    "    pickle.dump(words, f) # write the contents of list 'words' to file 'f'\n",
    "    \n",
    "# Note that, after the end of the indented block, the file is automatically closed.\n",
    "# Hence, no memory resource on your system is wasted idly."
   ]
  },
  {
   "cell_type": "markdown",
   "metadata": {},
   "source": [
    "If you browse to your working directory, you should find a file there named \"myData.pickle\". You can open this in a text editor, or load its contents back into a variable to do some more analyses on.\n"
   ]
  },
  {
   "cell_type": "code",
   "execution_count": 78,
   "metadata": {},
   "outputs": [
    {
     "name": "stdout",
     "output_type": "stream",
     "text": [
      "['https://t.co/HKXGEj4J7f', '#ThrowbackThursday', 'Best', 'R&amp;B', 'Trios', 'If', 'All', 'Time', '#music', 'RT', '@WilliamsRef:', '#ThrowbackThursday', 'to', 'when', 'we', 'supplied', 'a', 'variety', 'of', 'equipment', 'to', 'Middletons', '#Steakhouse', 'in', 'Leicester.', '🥩', 'This', 'included', 'Jad…', '#ThrowbackThursday', 'Sommer', '2018', 'Kuscheln', 'mit', 'dem', 'Nichtenkind', 'https://t.co/wbOsDgMgqh', '#ThrowBackThursday😏', 'https://t.co/xopEJxkjDA', 'First', 'Hike', 'Thanks', 'to', '@adiaha_young', '#ThrowbackThursday', 'https://t.co/Y5Ua70w5iG', '(2/2)', '📸', 'Many', 'thanks', 'to', '@Mr_Fairwood', 'for', 'capturing', 'some', 'of', 'the', 'recent', 'action', 'with', 'these', 'excellent', 'photos!…', 'https://t.co/VfIRl9v6ET', '#throwbackthursday', '#Throwback', 'to', 'March', \"2019's\", 'North', 'East', 'Business', 'Awards', 'when', 'we', '#won', 'Small', 'Business', 'of', 'the', 'Year!…', 'https://t.co/zl4BmnEvk1', '#halloweennails', '#halloween', '#salon', '#cardiffsalon', '#nails', '#orangenails', '#whitenails', '#spooktacular', '#throwbackthursday', '#🥰…', 'https://t.co/FvJz27qaJC', 'RT', '@Lettiemolefe1:', '#ThrowbackThursday', '🖤🖤', 'https://t.co/dNGbK4d6Uv', 'RT', '@nadya_ar_:', '#ThrowbackThursday', 'to', 'this', 'amazing', 'shot', 'of', '#InvisibleTies', 'by', 'Pallavi', 'Parul', '(@theruffledwild)', '#AuthorNadya', '#BookBoost', '@Rupa_…', '#ThrowbackThursday', 'looks', 'back', 'to', '@Hickorys_', 'Shrewsbury.', 'We', 'fitted', 'HFS', 'Ultima', '‘Aspen', 'White’', '&amp;', 'Vitality', 'range', '‘Black…', 'https://t.co/1vODzCczX6', 'THROWBACK', 'THURSDAY🎭', 'Today', 'we', 'are', 'throwing', 'back', 'to', 'our', '2014', 'production', 'of', 'Fiddler', 'on', 'the', 'Roof', '🎻', 'On', 'this', 'day', 'six', 'yea…', 'https://t.co/fmIcSYkeUd', 'RT', '@Tirumala_Sam:', 'Gorgeous', '@Samanthaprabhu2', '❤️😍', '#SamanthaAkkineni', '#ThrowbackThursday', '#SamDieHardFan', '💪', 'https://t.co/hP34pkybUz', '#ThrowbackThursday:', 'Return', 'ticket', 'from', 'Lagos', 'to', 'New', 'York', 'with', '@NigeriaAirways', 'once', 'cost', 'N17,430.', 'Apparently,', 'Nai…', 'https://t.co/EOcJd7TO1Z', '2014', 'gehören', 'das', 'Fraunhofer', 'UMSICHT', 'und', 'seine', 'Projektpartner', 'mit', 'der', 'Demonstrationsanlage', 'zur', 'Verbrennung', 'und', 'Vergä…', 'https://t.co/wAzEDaYCLb', 'RT', '@DaveMooreArt:', 'Good', 'morning', 'twitterland', '#ThrowbackThursday', 'https://t.co/rb5YEvVzBn', 'RT', '@Mohun_Bagan:', 'ভিনদেশী', 'যতো', 'তারা,', 'উজ্জ্বল', 'শুধু', 'মোহনবাগানেরই', 'আকাশে', '💚❤', '#JoyMohunBagan', '#ThrowbackThursday', '#IndianFootball', 'https://t.co/1Vat…', 'RT', '@SB19Official:', '#ThrowbackThursday‼️', 'Did', 'you', 'catch', 'our', 'cover', 'of', \"@ygofficialblink's\", '#DDUDUDDUDU', 'with', 'our', 'amazing', 'trainer', '&amp;', 'videographer', 'f…', 'RT', '@ETadkaOfficial:', '#ThrowbackThursday', '#thursdayvibes', 'We', 'Bring', 'in', 'the', 'Cutest', '#shehnaazgill', '@ishehnaaz_gill', 'singing', 'up', 'in', '#biggboss13', 'and…', 'RT', '@mana5n:', 'いつだって一度きりの夏。', '#Canon', '#Japan', '#NaturePhotography', '#ThrowbackThursday', '#sky', '#summer', '#カメラ好きな人と繋がりたい', '#写真好きな人と繋がりたい', '#ファインダー越しの私の世界', '#私の…', '#ThrowbackThursday', '#tbt', 'Another', 'very', 'recent', 'throwback', 'to', 'my', 'mid-2020', '#RockSpeculo', 'interview', 'with', 'the', 'lead', 'singer', 'o…', 'https://t.co/aDg8V3fcic', 'RT', '@OfficialSAMA:', '#ThrowbackThursday', 'When', '@zoegrahammusic', 'collected', \"2019's\", 'Best', 'Acoustic', 'Award', 'at', 'our', 'ceremony', 'in', '@stlukesglasgow', '🏆', '#TBT…', 'Am', '#ThrowbackThursday', 'muss', 'man', 'auch', 'mal', 'über', 'Süßwaren', 'sprechen.', 'Das', 'ist', 'dringend', 'nötig,', 'schon', 'um', 'der', 'aktuellen', 'Lage…', 'https://t.co/FI48HQ2aFZ', '\"Never', 'has', 'the', 'need', 'for', 'a', '#humanrights-based', 'approach', 'to', '#socialprotection', 'been', 'more', 'urgent', 'as', 'in', 'times', 'of', '#COVID19…', 'https://t.co/PcjOSTXqJ6', 'Talk', 'about', 'a', 'blast', 'from', 'the', 'past!', '#ThrowbackThursday', '#TBT', 'https://t.co/lVDdKMumvH', '#ThrowbackThursday', 'The', 'Floppy', 'Disk!', 'From', '1971', 'for', 'more', 'than', '2', 'decades', 'the', 'floppy', 'disk', 'was', 'the', 'essential', 'storage', 'de…', 'https://t.co/dix9LQ6bLi', 'RT', '@ETadkaOfficial:', '#ThrowbackThursday', '#thursdayvibes', 'We', 'Bring', 'in', 'the', 'Cutest', '#shehnaazgill', '@ishehnaaz_gill', 'singing', 'up', 'in', '#biggboss13', 'and…', 'Yol', 'asked', 'for', 'a', 'throw', 'back..', 'So', 'there', 'u', 'go', '#ThrowbackThursday', 'https://t.co/ITOFRbCFvG', 'https://t.co/QPOJmFjjCW', '@VodacomRugga', 'Bryan', 'Habana', 'Raising', 'handsFire', '#ThrowbackThursday', 'RT', '@Mohun_Bagan:', 'ভিনদেশী', 'যতো', 'তারা,', 'উজ্জ্বল', 'শুধু', 'মোহনবাগানেরই', 'আকাশে', '💚❤', '#JoyMohunBagan', '#ThrowbackThursday', '#IndianFootball', 'https://t.co/1Vat…', 'RT', '@ETadkaOfficial:', '#ThrowbackThursday', '#thursdayvibes', 'We', 'Bring', 'in', 'the', 'Cutest', '#shehnaazgill', '@ishehnaaz_gill', 'singing', 'up', 'in', '#biggboss13', 'and…', 'Ja,', 'ich', 'war', 'früher', 'eine', 'Flasche', 'aber', 'ich', 'schwöre,', 'heute', 'bin', 'ich', 'keine', 'mehr.', '#ThrowbackThursday', 'https://t.co/ivuY9ZrzTC', 'RT', '@kasaanmedia:', '#ThrowbackThursday', '#ThursdayMotivation', 'Wine', 'Sweet', 'Night', 'https://t.co/ZgnpRTaopP', 'RT', '@astro_timpeake:', 'What', 'a', 'privilege', 'to', 'be', 'able', 'to', 'call', 'the', '@Space_Station', 'home', 'for', '6', 'months', 'and', 'to', 'share', 'some', 'of', 'that', 'time', 'with', '@StationCD…', 'RT', '@ETadkaOfficial:', '#ThrowbackThursday', '#thursdayvibes', 'We', 'Bring', 'in', 'the', 'Cutest', '#shehnaazgill', '@ishehnaaz_gill', 'singing', 'up', 'in', '#biggboss13', 'and…', 'RT', '@Death2TheGrave:', '#1985', '#horror', '#throwbackthursday', '#horrorcommunity', '#movies', 'https://t.co/OL5cfP3oSS', 'Throw', 'Back', 'Thursday', '📌It’s', 'all', 'the', 'little', 'steps', 'that', 'make', 'us', 'who', 'and', 'what', 'we', 'are', 'today.', 'Never', 'give', 'up.', 'Dream', 'big!…', 'https://t.co/F1ezy8nmKv', '#ThrowbackThursday', 'When', '@zoegrahammusic', 'collected', \"2019's\", 'Best', 'Acoustic', 'Award', 'at', 'our', 'ceremony', 'in', '@stlukesglasgow', '🏆…', 'https://t.co/ukpsgtAC4T', 'RT', '@ETadkaOfficial:', '#ThrowbackThursday', '#thursdayvibes', 'We', 'Bring', 'in', 'the', 'Cutest', '#shehnaazgill', '@ishehnaaz_gill', 'singing', 'up', 'in', '#biggboss13', 'and…', 'RT', '@VodacomRugga:', 'WIN', 'with', '#ThrowbackThursday.', 'Reply', 'below', 'with', 'you', 'answer', 'for', 'Round', '3', 'and', 'you', 'could', 'be', 'one', 'of', 'three', 'lucky', 'winners', 'of', '3', 'Gig…', 'RT', '@LincsCathedral:', '#ThrowbackThursday', 'During', 'excavations', 'by', '@allenarchaeo', '50', 'burials', 'were', 'uncovered,', 'including', 'that', 'of', 'a', 'medieval', 'priest,…', 'RT', '@UQAmbassadors:', '#ThrowbackThursday', 'October', '14,', '2019.', 'Press', 'conference', 'at', '#LifeWearDay', 'Tokyo.', '@rogerfederer', '@shingokunieda', '@GordonRe…', 'RT', '@ETadkaOfficial:', '#ThrowbackThursday', '#thursdayvibes', 'We', 'Bring', 'in', 'the', 'Cutest', '#shehnaazgill', '@ishehnaaz_gill', 'singing', 'up', 'in', '#biggboss13', 'and…', 'RT', '@ETadkaOfficial:', '#ThrowbackThursday', '#thursdayvibes', 'We', 'Bring', 'in', 'the', 'Cutest', '#shehnaazgill', '@ishehnaaz_gill', 'singing', 'up', 'in', '#biggboss13', 'and…', 'The', 'Old', 'Linebacker', 'Days❗️#ThrowbackThursday', 'https://t.co/Iy3cu2tCrY', '#HistoriaVolvoTrucks', 'Algunos', 'modelos', 'que', 'aún', 'se', 'ensamblaban', 'en', 'la', 'línea', 'de', 'montaje', 'de', 'los', 'años', '50', 'tenían', 'su', 'origen…', 'https://t.co/W9aoBJOlWN', 'RT', '@aqtent_:', '#ThrowbackThursday', '7', 'year', 'old', '@RealSeunKuti', 'opens', 'the', 'show', 'at', 'the', 'Afrika', 'Shrine', 'for', 'the', 'CBB', 'album', 'launch', 'in', '1990.', '🔗', ':', 'https:/…', 'RT', '@ETadkaOfficial:', '#ThrowbackThursday', '#thursdayvibes', 'We', 'Bring', 'in', 'the', 'Cutest', '#shehnaazgill', '@ishehnaaz_gill', 'singing', 'up', 'in', '#biggboss13', 'and…', 'RT', '@ETadkaOfficial:', '#ThrowbackThursday', '#thursdayvibes', 'We', 'Bring', 'in', 'the', 'Cutest', '#shehnaazgill', '@ishehnaaz_gill', 'singing', 'up', 'in', '#biggboss13', 'and…', 'RT', '@ETadkaOfficial:', '#ThrowbackThursday', '#thursdayvibes', 'We', 'Bring', 'in', 'the', 'Cutest', '#shehnaazgill', '@ishehnaaz_gill', 'singing', 'up', 'in', '#biggboss13', 'and…', 'RT', '@ETadkaOfficial:', '#ThrowbackThursday', '#thursdayvibes', 'We', 'Bring', 'in', 'the', 'Cutest', '#shehnaazgill', '@ishehnaaz_gill', 'singing', 'up', 'in', '#biggboss13', 'and…', '#ThrowbackThursday', 'I', 'love', 'this', 'photo', 'of', 'me', 'and', 'my', 'dear', 'friends', 'Michael', '&amp;', 'Ruby', 'James', '❤️', 'Happy', 'times', 'with', 'lovely', 'pe…', 'https://t.co/9kL7F6QxHw', 'RT', '@Dottydots_x:', 'Sharing', 'this', 'throwback', 'from', 'Pacific', 'Amphitheatre,', '2012', '-', 'Cuckoo!', 'Great', 'song!', '🤪😁💚💜', '#ThrowbackThursday', 'Credit', 'vid', 'Cos2mwiz…', 'RT', '@CherrieT793:', '#throwbackthursday', '🐾', '#thursday', '#throwback', '#beansthepug', '👅', '#eastlondonpug', '#pugspugspugs', '#pugsofinstagram', '#puglife', '#puggy…', 'Dieser', 'Lappen', 'ist', 'immer', 'noch', 'aktiv', 'im', 'Einsatz;', 'habe', 'noch', 'bis', '2023', 'Zeit,', 'ihn', 'zu', 'tauschen.', 'Wie', 'man', 'sieht', 'ist', 'es', 'mir', 'd…', 'https://t.co/aQ6Tl2ld58', 'The', 'amazing', '@apoclovers', 'will', 'be', 'joining', '@Shamas_Maximus', 'LIVE', 'tonight', 'on', '@RockOnTheRise', 'radio', 'to', 'chat', 'about', 'their', 'ne…', 'https://t.co/D8mLNn8vi4', '#ThrowbackThursday', '7', 'year', 'old', '@RealSeunKuti', 'opens', 'the', 'show', 'at', 'the', 'Afrika', 'Shrine', 'for', 'the', 'CBB', 'album', 'launch', 'in', '1990.…', 'https://t.co/QuvmAlEiqC', 'RT', '@eddiespikaagaba:', '#ThrowbackThursday', 'with', \"La'\", 'boys', '@ExDada01', '@MukundaneAble', '@infamous_tweep', '@rastakhid01', '#DrawLikeAble', '#SpekeEvents', 'htt…', 'RT', '@Shenmue_Dojo:', 'Wong', 'from', 'Shenmue', '2,', 'standing', 'in', \"Worker's\", 'Pier,', 'in', 'Aberdeen,', 'Hong', 'Kong.', '#ThrowbackThursday', '#Shenmue2', 'https://t.co/Wm90bn…', '#ThrowbackThursday', 'here’s', 'a', 'preview', 'teaser', 'promo', 'of', 'my', 'tv', 'presenter', 'showreel', '#showreelshareday', '#presenters', 'https://t.co/xhET3IWL19', 'RT', '@ETadkaOfficial:', '#ThrowbackThursday', '#thursdayvibes', 'We', 'Bring', 'in', 'the', 'Cutest', '#shehnaazgill', '@ishehnaaz_gill', 'singing', 'up', 'in', '#biggboss13', 'and…', 'RT', '@DYR1051:', 'It’s', 'the', '#ThrowbackThursday', 'edition', 'of', '#musicandlunch1223', 'on', '@DYR1051', 'with', '@AthenkosiBaliso', '&amp;', '@_ladyfai_', 'At', '14:30', 'pm🕝', 'we', 'wan…', 'RT', '@iawoolford:', 'परमेश्वर', 'धानुक', 'के', 'साथ', 'फणीश्वरनाथ', 'रेणु...', 'कमर', 'में', 'पिस्तौल', 'लटकाए', 'हुए', '👌1950s', 'में,', 'औराही', 'हिंगना', 'गाँव', '(पूर्णिया,', 'बिहार)', 'औराही-…', 'RT', '@bollywood_life:', '#ThrowbackThursday:', 'When', '#BiggBoss', '13', 'winner', '#SidharthShukla', 'got', 'smitten', 'by', '#AishwaryaRaiBachchan', 'on', 'stage', 'https://t.co…', 'RT', '@Shenmue_Dojo:', 'Wong', 'from', 'Shenmue', '2,', 'standing', 'in', \"Worker's\", 'Pier,', 'in', 'Aberdeen,', 'Hong', 'Kong.', '#ThrowbackThursday', '#Shenmue2', 'https://t.co/Wm90bn…', 'It’s', 'the', '#ThrowbackThursday', 'edition', 'of', '#musicandlunch1223', 'on', '@DYR1051', 'with', '@AthenkosiBaliso', '&amp;', '@_ladyfai_', 'At', '14:30…', 'https://t.co/qiCe54SEhr', 'RT', '@ETadkaOfficial:', '#ThrowbackThursday', '#thursdayvibes', 'We', 'Bring', 'in', 'the', 'Cutest', '#shehnaazgill', '@ishehnaaz_gill', 'singing', 'up', 'in', '#biggboss13', 'and…', 'A', 'nice', 'one', 'for', '#ThrowbackThursday', '-', 'Mortimer', 'and', 'Tessa', 'Wheeler', 'on', 'site', 'during', 'their', 'excavations', 'of', 'Verulamium…', 'https://t.co/NUvOurDe35', 'RT', '@ETadkaOfficial:', '#ThrowbackThursday', '#thursdayvibes', 'We', 'Bring', 'in', 'the', 'Cutest', '#shehnaazgill', '@ishehnaaz_gill', 'singing', 'up', 'in', '#biggboss13', 'and…', '#ThrowbackThursday', 'story', 'from', 'me,', \"'Even\", 'Dead', \"I'm\", \"Neurotic'\", 'by', '@fuzzynick', 'Nick', 'Black', '#amwriting', '#flashfiction', 'https://t.co/uD8xth3KAI', 'RT', '@ETadkaOfficial:', '#ThrowbackThursday', '#thursdayvibes', 'We', 'Bring', 'in', 'the', 'Cutest', '#shehnaazgill', '@ishehnaaz_gill', 'singing', 'up', 'in', '#biggboss13', 'and…', '#ThrowbackThursday', '#ThursdaysInBlack', 'RT', '@talentafrica:', '#ThrowbackThursday', ':', 'The', 'majestic', 'Biharwe', 'Eclipse', 'monument', 'was', 'officially', 'unveiled', 'in', '2014', 'to', 'commemorate', 'victory', 'for', 'Ank…', '#ThrowbackThursday', 'to', 'this', 'amazing', 'shot', 'of', '#InvisibleTies', 'by', 'Pallavi', 'Parul', '(@theruffledwild)', '#AuthorNadya…', 'https://t.co/rfkDt9JC1B', 'RT', '@voiceoftheEast:', '#ThrowbackThursday', 'Nwanyeruwa', 'Nwanyeruwa', 'was', 'an', 'Igbo', 'woman', 'who', 'sparked', 'a', 'short', 'riot', 'that', 'is', 'often', 'called', 'the', 'first…', '#ThrowbackThursday', '#waitforit', 'https://t.co/0UuVKPzTAi', 'RT', '@DailyDex:', 'Throwback', 'to', 'my', 'younger', 'days,', 'when', 'I', 'was', 'guarding', 'my', 'toys', 'and', 'trying', 'to', 'look', 'cute', 'at', 'the', 'same', 'time🦁😺😹', '#ThrowbackThursday', '#Cat…', '#ThrowbackThursday', 'During', 'the', 'week-long', 'FOHCAF@5', 'events,', 'precisely', '14th', 'October', ',', '2020,', 'myself', '&amp;', 'team', 'was', '@…', 'https://t.co/Lvst5QZIje', 'RT', '@kennyblaqmcfr_:', 'Do', 'not', 'despise', 'the', 'days', 'of', 'the', 'little', 'beginnings', '#ThrowbackThursday', '#ThursdayMotivation', 'https://t.co/HFtCob1oAc', 'RT', '@bollywood_life:', '#ThrowbackThursday:', 'When', '#BiggBoss', '13', 'winner', '#SidharthShukla', 'got', 'smitten', 'by', '#AishwaryaRaiBachchan', 'on', 'stage', 'https://t.co…', '#ThrowbackThursday', 'R&amp;B', 'music', 'of', 'mid-2000s', 'https://t.co/FA0UyVilGt', 'RT', '@popcentraltv:', 'Acquire', 'some', 'new', 'goods', 'from', 'Central', 'Market!', 'Catch', 'the', 'show', 'with', 'Nana', '@nancychukwudebe', 'at', '10:10', 'on', 'Popcentral,', 'DStv', 'Ch189!…', 'Here’s', 'a', '#ThrowbackThursday', 'to', 'our', 'funk-tastic', 'night', '@BlackheathHalls', 'last', 'Xmas.', 'This', 'year', 'is', 'going', 'to', 'be', 'very', 'diff…', 'https://t.co/d55ICeOg2l', 'RT', '@SimBoxx:', '🚨NEW', 'SERIES', 'ANNOUNCEMENT🚨', '🌃#FightCities🌃', 'Instead', 'of', 'your', 'usual', '#ThrowbackThursday', 'content,', 'our', 'head', 'feature', 'writer', '@EBBoxing…', 'RT', '@VodacomRugga:', 'WIN', 'with', '#ThrowbackThursday.', 'Reply', 'below', 'with', 'you', 'answer', 'for', 'Round', '3', 'and', 'you', 'could', 'be', 'one', 'of', 'three', 'lucky', 'winners', 'of', '3', 'Gig…', 'RT', '@universalrecph:', '#ThrowbackThursday', 'WATCH:', 'Alden', 'Richards', '“Haplos”', 'MV', 'https://t.co/UnTS9LyVPW', 'https://t.co/ECosUrWcun', 'Acquire', 'some', 'new', 'goods', 'from', 'Central', 'Market!', 'Catch', 'the', 'show', 'with', 'Nana', '@nancychukwudebe', 'at', '10:10', 'on', 'Popcentral,', 'DStv…', 'https://t.co/mlhyqdHWIn', 'RT', '@CliftonVillage:', '#ThrowbackThursday', ':', 'This', 'photo', 'dating', 'from', '1863/64,', 'shows', 'the', 'Suspension', 'Bridge', 'under', 'construction,', '&amp;', 'still', 'begs', 'the', 'q…', 'Ma', '1st', 'day', 'wie', 'hoom.', 'Cuddled', 'up', 'wie', 'ma', 'wee', 'toy', '#ThrowbackThursday', '#CatsOfTwitter', 'https://t.co/H29FAqx0gs', 'We', 'have', 'taken', 'a', 'look', 'back', 'at', 'them', 'each', 'before,', 'but', 'it’s', 'always', 'good', 'to', 'look', 'at', 'some', 'of', 'the', 'completed', 'jobs', 'together!…', 'https://t.co/E1isUe6E7X', 'RT', '@officialenzari:', 'Classic', '#throwbackthursday', '👍', 'https://t.co/p3pQKIkfQq', '#cars', '#fiat', '#autos', '#cool', '#classiccars', '#enzari', '#italiancars', 'https:/…', 'RT', '@deespeak:', 'What', 'would', 'i', 'say', 'to', 'my', 'younger', 'self?', 'The', 'Universe’s', 'timing', 'is', 'always', 'perfect,', 'even', 'if', 'we', 'don’t', 'know', 'it', 'at', 'the', 'time', '💛', 'What…', 'Morris', 'Leslie', 'Plant', 'Hire', 'has', 'always', 'supplied', 'the', 'very', 'latest', 'in', 'Plant', 'to', 'our', 'valued', 'customers.', 'We', 'still', 'hire', 'the', 'la…', 'https://t.co/aaS9NyFteP', \"Today's\", 'pic', 'is', 'part', 'of', 'a', 'private', 'garden', 'on', 'the', 'west', 'coast', 'of', 'Scotland', 'including', 'woodland', 'walks', 'and', 'walled', 'garden,', 'd…', 'https://t.co/l7amZMc7NP', 'RT', '@chinfongart:', '#ThrowbackThursday', 'painting', 'i', 'did', 'two', 'years', 'ago', 'inspired', 'by', '@odesza', 'Line', 'of', 'Sight', 'where', 'a', 'kid', 'befriends', 'a', 'robot', 'https://t.…', 'RT', '@ETadkaOfficial:', '#ThrowbackThursday', '#thursdayvibes', 'We', 'Bring', 'in', 'the', 'Cutest', '#shehnaazgill', '@ishehnaaz_gill', 'singing', 'up', 'in', '#biggboss13', 'and…', 'RT', '@ETadkaOfficial:', '#ThrowbackThursday', '#thursdayvibes', 'We', 'Bring', 'in', 'the', 'Cutest', '#shehnaazgill', '@ishehnaaz_gill', 'singing', 'up', 'in', '#biggboss13', 'and…', '#ThrowbackThursday', 'nearly', 'that', 'time', 'of', 'year', 'again', 'for', 'me', '&amp;', 'Millie', 'to', 'get', 'our', 'pumpkins', 'on', '🎃', 'https://t.co/MWLHk2jyoL', 'Throwback', 'to', 'my', 'younger', 'days,', 'when', 'I', 'was', 'guarding', 'my', 'toys', 'and', 'trying', 'to', 'look', 'cute', 'at', 'the', 'same', 'time🦁😺😹…', 'https://t.co/ZAL41W5Ws5', 'RT', '@WinvicLtd:', '#throwbackthursday', 'to', 'when', 'our', '2020/21', 'cohort', 'of', 'Year', 'in', 'Industry', 'students', 'joined', 'us.', 'If', 'you', 'are', 'considering', 'a', '#placement', 'ye…']\n"
     ]
    }
   ],
   "source": [
    "# open the myData.pickle file and store its contents into variable 'words'\n",
    "\n",
    "with open(filepath, \"rb\") as f:\n",
    "    words = pickle.load(f)\n",
    "print(words)"
   ]
  },
  {
   "cell_type": "markdown",
   "metadata": {},
   "source": [
    "### 3.2 Using prettytable to display tuples in a nice way\n",
    "\n"
   ]
  },
  {
   "cell_type": "code",
   "execution_count": 95,
   "metadata": {},
   "outputs": [
    {
     "name": "stdout",
     "output_type": "stream",
     "text": [
      "+-------------------+-------+\n",
      "| Word              | Count |\n",
      "+-------------------+-------+\n",
      "| RT                |    11 |\n",
      "| the               |    10 |\n",
      "| is                |     8 |\n",
      "| #Vote             |     8 |\n",
      "| a                 |     6 |\n",
      "| @WinAmrcaBackPAC: |     5 |\n",
      "| Remember,         |     5 |\n",
      "| election          |     5 |\n",
      "| job               |     5 |\n",
      "| interview.        |     5 |\n",
      "+-------------------+-------+\n",
      "+-----------------+-------+\n",
      "| @               | Count |\n",
      "+-----------------+-------+\n",
      "| WinAmrcaBackPAC |     5 |\n",
      "| DrNinaRadcliff  |     1 |\n",
      "| Albumism        |     1 |\n",
      "| StevieNicks     |     1 |\n",
      "| iles__          |     1 |\n",
      "| patagonia       |     1 |\n",
      "| DanScavino      |     1 |\n",
      "| HamillHimself   |     1 |\n",
      "+-----------------+-------+\n",
      "+----------------------+-------+\n",
      "| Hashtag              | Count |\n",
      "+----------------------+-------+\n",
      "| Vote                 |     8 |\n",
      "| WouldYouHireTrump    |     5 |\n",
      "| VOTE                 |     2 |\n",
      "| beach                |     1 |\n",
      "| walk                 |     1 |\n",
      "| campaigning          |     1 |\n",
      "| voted                |     1 |\n",
      "| VoteEarly            |     1 |\n",
      "| DontMailInYourBallot |     1 |\n",
      "| DropOffYourBallot    |     1 |\n",
      "+----------------------+-------+\n"
     ]
    }
   ],
   "source": [
    "from prettytable import PrettyTable\n",
    "for label, data in (('Word', word),\n",
    "                    ('@', username),\n",
    "                    ('Hashtag', hashtag)):\n",
    "    pt = PrettyTable(field_names=[label, 'Count'])\n",
    "    c = Counter(data)\n",
    "    [ pt.add_row(kv) for kv in c.most_common()[:10] ]\n",
    "    pt.align[label], pt.align['Count'] = 'l', 'r' # Set column alignment\n",
    "    print(pt) "
   ]
  },
  {
   "cell_type": "markdown",
   "metadata": {},
   "source": [
    "### 3.3 Calculating lexical diversity for tweets \n",
    "*(from Example 1-9 in Mining the Social Web)*:"
   ]
  },
  {
   "cell_type": "code",
   "execution_count": 103,
   "metadata": {},
   "outputs": [
    {
     "name": "stdout",
     "output_type": "stream",
     "text": [
      "0.6306306306306306\n",
      "0.6666666666666666\n",
      "0.5\n",
      "14.8\n"
     ]
    }
   ],
   "source": [
    "# Define a function for computing lexical diversity\n",
    "def lexical_diversity(tokens):\n",
    "    #question: why 1.0 * the length; what does that add?\n",
    "    #question: set(token) is the unique collection of word, right? (= the words in the retrieved tweets)?\n",
    "    return 1.0*len(set(tokens))/len(tokens)\n",
    "\n",
    "\n",
    "# Define a function for computing the average number of words per tweet\n",
    "def average_words(statuses2):\n",
    "    total_words = sum([ len(s.split()) for s in statuses2 ])\n",
    "    return 1.0*total_words/len(statuses2) \n",
    "\n",
    "# Let's use these functions:\n",
    "\n",
    "print(lexical_diversity(word))\n",
    "print(lexical_diversity(username))\n",
    "print(lexical_diversity(hashtag))\n",
    "print(average_words(tweet))"
   ]
  },
  {
   "cell_type": "markdown",
   "metadata": {},
   "source": [
    "### Task 5: What do the printed numbers indicate? Try to explain them.\n",
    "\n",
    "The printed numbers indicate the lexical diversity in each tweet.\n",
    "\n",
    "The first print action \"print(lexical_diversity(word))\" indicates that about three out of five words in every tweet is unique.\n",
    "\n",
    "The second print action \"print(lexical_diversity(username))\" indicates that aournd 67% of the screennames that are mentioned in the tweets are unique.\n",
    "\n",
    "The third print action \"print(average_words(hastag))\" indicates that 50% of the tweets contain the hastag \"#vote\".\n",
    "\n",
    "The last action \"print(average_words(tweet))\" indicates the average number of words per tweet, which is around 15."
   ]
  },
  {
   "cell_type": "markdown",
   "metadata": {},
   "source": [
    "### 3.4 Finding the most popular retweets \n",
    "*(from Example 1-10 in Mining the Social Web):*"
   ]
  },
  {
   "cell_type": "code",
   "execution_count": null,
   "metadata": {},
   "outputs": [],
   "source": [
    "retweet_cnt_un_txt = [(status['retweet_count'],\n",
    "    status['retweeted_status']['user']['screen_name'],\n",
    "    status['text'])# Store out a tuple of these three values\n",
    "    for status in statuses # for each status\n",
    "    if 'retweeted_status' in status # ... so long as the status meets this condition.\n",
    "    ]\n",
    "\n",
    "# Slice off the first 5 from the sorted results and display each item in the tuple\n",
    "pt = PrettyTable(field_names=['Count', 'Screen Name', 'Text'])\n",
    "[ pt.add_row(row) for row in sorted(retweet_cnt_un_txt, reverse=True)[:5] ]\n",
    "pt.max_width['Text'] = 50\n",
    "pt.align= 'l'\n",
    "print(pt)"
   ]
  },
  {
   "cell_type": "markdown",
   "metadata": {},
   "source": [
    "### 3.5 Looking up users who have retweeted a status \n",
    "*(from Example 1-11 in Mining the Social Web):*"
   ]
  },
  {
   "cell_type": "code",
   "execution_count": null,
   "metadata": {},
   "outputs": [],
   "source": [
    "retweets = twitter_api.statuses.retweets(id=1224140327688249349) # Get the original tweet id for a tweet from its retweeted_status node and insert it here\n",
    "print(\"Users who've retweeted the tweet:\\n\")\n",
    "print([r['user']['screen_name'] for r in _retweets])"
   ]
  },
  {
   "cell_type": "markdown",
   "metadata": {},
   "source": [
    "### Task 6 (advanced)\n",
    "\n",
    "If you have a Twitter account with a nontrivial number of tweets, request your historical tweet archive from your account settings and analyze it. \\\n",
    "The export of your account data includes files organized by time period in a convenient JSON format. See the README.txt file included in the downloaded archive for more details. \n",
    "\n",
    "\n",
    "\n",
    "What are the most common terms that appear in your tweets? \\\n",
    "Who do you retweet the most often? \\\n",
    "How many of your tweets are retweeted (and why do you think this is the case)?"
   ]
  },
  {
   "cell_type": "markdown",
   "metadata": {},
   "source": [
    "### 3.6 Plotting frequencies of words \n",
    "*(from Example 1-12 in Mining the Social Web)*\n",
    "\n",
    "\n",
    "In the previous exercises we have been looking at the text from the tweets, but when you retrieved the results, you retrieved much more information about the tweets, such as the username of the person who shared this tweet with the world. \n",
    "\n",
    "\n",
    "You can use this information to find out who retweets whom in our examples. "
   ]
  },
  {
   "cell_type": "code",
   "execution_count": null,
   "metadata": {},
   "outputs": [],
   "source": [
    "word_counts = sorted(Counter(words).values(), reverse=True)\n",
    "import matplotlib.pyplot as plt\n",
    "plt.loglog(word_counts)\n",
    "plt.ylabel(\"Freq\")\n",
    "plt.xlabel(\"Word Rank\")\n",
    "plt.show()"
   ]
  },
  {
   "cell_type": "markdown",
   "metadata": {},
   "source": [
    "### Generating histograms of words, screen names, and hashtags \n",
    "*(from Example 1-13 in Mining the Social Web):*"
   ]
  },
  {
   "cell_type": "code",
   "execution_count": null,
   "metadata": {},
   "outputs": [],
   "source": [
    "for label, data in (('Word', words),\n",
    "                    ('Screen Name', screen_names),\n",
    "                    ('Hashtag', hashtags)):\n",
    "    c = Counter(data)\n",
    "    plt.hist(c.values())\n",
    "    \n",
    "    plt.title(label)\n",
    "    plt.ylabel(\"Number of items in bin\")\n",
    "    plt.xlabel(\"Bins (number of times an item appeared)\")\n",
    "    \n",
    "    plt.figure()"
   ]
  },
  {
   "cell_type": "code",
   "execution_count": null,
   "metadata": {},
   "outputs": [],
   "source": [
    "# extra: seaborn plots with a one-liner.\n",
    "!pip install seaborn\n",
    "import seaborn as sns\n",
    "\n",
    "sns.distplot(word_counts, kde=False, rug=True)\n"
   ]
  }
 ],
 "metadata": {
  "kernelspec": {
   "display_name": "Python 3",
   "language": "python",
   "name": "python3"
  },
  "language_info": {
   "codemirror_mode": {
    "name": "ipython",
    "version": 3
   },
   "file_extension": ".py",
   "mimetype": "text/x-python",
   "name": "python",
   "nbconvert_exporter": "python",
   "pygments_lexer": "ipython3",
   "version": "3.8.6"
  }
 },
 "nbformat": 4,
 "nbformat_minor": 2
}
